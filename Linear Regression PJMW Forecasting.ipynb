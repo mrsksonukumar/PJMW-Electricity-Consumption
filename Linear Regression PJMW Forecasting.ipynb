{
 "cells": [
  {
   "cell_type": "markdown",
   "id": "d064a04e",
   "metadata": {},
   "source": [
    "####  Hourly Energy Consumption Forecast \n",
    "\n",
    "**Business Objective:\n",
    "PJM Hourly Energy Consumption Data\n",
    "PJM Interconnection LLC (PJM) is a regional transmission organization (RTO) in the United States. It is part of the Eastern Interconnection grid operating an electric transmission system serving all or parts of Delaware, Illinois, Indiana, Kentucky, Maryland, Michigan, New Jersey, North Carolina, Ohio, Pennsylvania, Tennessee, Virginia, West Virginia, and the District of Columbia.**\n",
    "\n",
    "**The hourly power consumption data comes from PJM's website and are in megawatts (MW).**\n",
    "\n",
    "**The regions have changed over the years so data may only appear for certain dates per region.**\n",
    "\n",
    "**●Split the last year into a test set- can you build a model to predict energy consumption?**\n",
    "\n",
    "**●Find trends in energy consumption around hours of the day, holidays, or long term trends?**\n",
    "\n",
    "**●Understand how daily trends change depending of the time of year. Summer trends are very different than winter trends.**\n",
    "\n",
    "**●Forecast for next 30 days.**\n"
   ]
  },
  {
   "cell_type": "markdown",
   "id": "c68126fe",
   "metadata": {},
   "source": [
    "### #############################################################################################"
   ]
  },
  {
   "cell_type": "markdown",
   "id": "22540f15",
   "metadata": {},
   "source": [
    "###### Throughout this project, we will be building a model to forecast monthly electricity consumption from PJM'S website. This model will be based  on time series data."
   ]
  },
  {
   "cell_type": "code",
   "execution_count": 1,
   "id": "ce90e846",
   "metadata": {
    "ExecuteTime": {
     "end_time": "2022-10-25T03:42:45.547371Z",
     "start_time": "2022-10-25T03:42:42.984298Z"
    }
   },
   "outputs": [],
   "source": [
    "## importing libraries\n",
    "import pandas as pd \n",
    "import numpy as np\n",
    "import matplotlib.pyplot as plt\n",
    "import seaborn as sns"
   ]
  },
  {
   "cell_type": "markdown",
   "id": "86de4b3c",
   "metadata": {},
   "source": [
    "##  Exploratory Data Analysis\n"
   ]
  },
  {
   "cell_type": "code",
   "execution_count": 2,
   "id": "8e151bc7",
   "metadata": {
    "ExecuteTime": {
     "end_time": "2022-10-25T03:42:45.823404Z",
     "start_time": "2022-10-25T03:42:45.548534Z"
    },
    "scrolled": true
   },
   "outputs": [
    {
     "data": {
      "text/html": [
       "<div>\n",
       "<style scoped>\n",
       "    .dataframe tbody tr th:only-of-type {\n",
       "        vertical-align: middle;\n",
       "    }\n",
       "\n",
       "    .dataframe tbody tr th {\n",
       "        vertical-align: top;\n",
       "    }\n",
       "\n",
       "    .dataframe thead th {\n",
       "        text-align: right;\n",
       "    }\n",
       "</style>\n",
       "<table border=\"1\" class=\"dataframe\">\n",
       "  <thead>\n",
       "    <tr style=\"text-align: right;\">\n",
       "      <th></th>\n",
       "      <th>PJMW_MW</th>\n",
       "    </tr>\n",
       "    <tr>\n",
       "      <th>Datetime</th>\n",
       "      <th></th>\n",
       "    </tr>\n",
       "  </thead>\n",
       "  <tbody>\n",
       "    <tr>\n",
       "      <th>2002-12-31 01:00:00</th>\n",
       "      <td>5077.0</td>\n",
       "    </tr>\n",
       "    <tr>\n",
       "      <th>2002-12-31 02:00:00</th>\n",
       "      <td>4939.0</td>\n",
       "    </tr>\n",
       "    <tr>\n",
       "      <th>2002-12-31 03:00:00</th>\n",
       "      <td>4885.0</td>\n",
       "    </tr>\n",
       "    <tr>\n",
       "      <th>2002-12-31 04:00:00</th>\n",
       "      <td>4857.0</td>\n",
       "    </tr>\n",
       "    <tr>\n",
       "      <th>2002-12-31 05:00:00</th>\n",
       "      <td>4930.0</td>\n",
       "    </tr>\n",
       "    <tr>\n",
       "      <th>...</th>\n",
       "      <td>...</td>\n",
       "    </tr>\n",
       "    <tr>\n",
       "      <th>2018-01-01 20:00:00</th>\n",
       "      <td>8401.0</td>\n",
       "    </tr>\n",
       "    <tr>\n",
       "      <th>2018-01-01 21:00:00</th>\n",
       "      <td>8373.0</td>\n",
       "    </tr>\n",
       "    <tr>\n",
       "      <th>2018-01-01 22:00:00</th>\n",
       "      <td>8238.0</td>\n",
       "    </tr>\n",
       "    <tr>\n",
       "      <th>2018-01-01 23:00:00</th>\n",
       "      <td>7958.0</td>\n",
       "    </tr>\n",
       "    <tr>\n",
       "      <th>2018-01-02 00:00:00</th>\n",
       "      <td>7691.0</td>\n",
       "    </tr>\n",
       "  </tbody>\n",
       "</table>\n",
       "<p>143206 rows × 1 columns</p>\n",
       "</div>"
      ],
      "text/plain": [
       "                     PJMW_MW\n",
       "Datetime                    \n",
       "2002-12-31 01:00:00   5077.0\n",
       "2002-12-31 02:00:00   4939.0\n",
       "2002-12-31 03:00:00   4885.0\n",
       "2002-12-31 04:00:00   4857.0\n",
       "2002-12-31 05:00:00   4930.0\n",
       "...                      ...\n",
       "2018-01-01 20:00:00   8401.0\n",
       "2018-01-01 21:00:00   8373.0\n",
       "2018-01-01 22:00:00   8238.0\n",
       "2018-01-01 23:00:00   7958.0\n",
       "2018-01-02 00:00:00   7691.0\n",
       "\n",
       "[143206 rows x 1 columns]"
      ]
     },
     "execution_count": 2,
     "metadata": {},
     "output_type": "execute_result"
    }
   ],
   "source": [
    "df=pd.read_csv('PJMW_hourly.csv',index_col='Datetime',parse_dates=True)\n",
    "df"
   ]
  },
  {
   "cell_type": "code",
   "execution_count": 3,
   "id": "3363c195",
   "metadata": {
    "ExecuteTime": {
     "end_time": "2022-10-25T03:42:45.857297Z",
     "start_time": "2022-10-25T03:42:45.823404Z"
    }
   },
   "outputs": [
    {
     "data": {
      "text/html": [
       "<div>\n",
       "<style scoped>\n",
       "    .dataframe tbody tr th:only-of-type {\n",
       "        vertical-align: middle;\n",
       "    }\n",
       "\n",
       "    .dataframe tbody tr th {\n",
       "        vertical-align: top;\n",
       "    }\n",
       "\n",
       "    .dataframe thead th {\n",
       "        text-align: right;\n",
       "    }\n",
       "</style>\n",
       "<table border=\"1\" class=\"dataframe\">\n",
       "  <thead>\n",
       "    <tr style=\"text-align: right;\">\n",
       "      <th></th>\n",
       "      <th>PJMW_MW</th>\n",
       "    </tr>\n",
       "    <tr>\n",
       "      <th>Datetime</th>\n",
       "      <th></th>\n",
       "    </tr>\n",
       "  </thead>\n",
       "  <tbody>\n",
       "    <tr>\n",
       "      <th>2002-04-01 01:00:00</th>\n",
       "      <td>4374.0</td>\n",
       "    </tr>\n",
       "    <tr>\n",
       "      <th>2002-04-01 02:00:00</th>\n",
       "      <td>4306.0</td>\n",
       "    </tr>\n",
       "    <tr>\n",
       "      <th>2002-04-01 03:00:00</th>\n",
       "      <td>4322.0</td>\n",
       "    </tr>\n",
       "    <tr>\n",
       "      <th>2002-04-01 04:00:00</th>\n",
       "      <td>4359.0</td>\n",
       "    </tr>\n",
       "    <tr>\n",
       "      <th>2002-04-01 05:00:00</th>\n",
       "      <td>4436.0</td>\n",
       "    </tr>\n",
       "    <tr>\n",
       "      <th>...</th>\n",
       "      <td>...</td>\n",
       "    </tr>\n",
       "    <tr>\n",
       "      <th>2018-08-02 20:00:00</th>\n",
       "      <td>6545.0</td>\n",
       "    </tr>\n",
       "    <tr>\n",
       "      <th>2018-08-02 21:00:00</th>\n",
       "      <td>6496.0</td>\n",
       "    </tr>\n",
       "    <tr>\n",
       "      <th>2018-08-02 22:00:00</th>\n",
       "      <td>6325.0</td>\n",
       "    </tr>\n",
       "    <tr>\n",
       "      <th>2018-08-02 23:00:00</th>\n",
       "      <td>5892.0</td>\n",
       "    </tr>\n",
       "    <tr>\n",
       "      <th>2018-08-03 00:00:00</th>\n",
       "      <td>5489.0</td>\n",
       "    </tr>\n",
       "  </tbody>\n",
       "</table>\n",
       "<p>143206 rows × 1 columns</p>\n",
       "</div>"
      ],
      "text/plain": [
       "                     PJMW_MW\n",
       "Datetime                    \n",
       "2002-04-01 01:00:00   4374.0\n",
       "2002-04-01 02:00:00   4306.0\n",
       "2002-04-01 03:00:00   4322.0\n",
       "2002-04-01 04:00:00   4359.0\n",
       "2002-04-01 05:00:00   4436.0\n",
       "...                      ...\n",
       "2018-08-02 20:00:00   6545.0\n",
       "2018-08-02 21:00:00   6496.0\n",
       "2018-08-02 22:00:00   6325.0\n",
       "2018-08-02 23:00:00   5892.0\n",
       "2018-08-03 00:00:00   5489.0\n",
       "\n",
       "[143206 rows x 1 columns]"
      ]
     },
     "execution_count": 3,
     "metadata": {},
     "output_type": "execute_result"
    }
   ],
   "source": [
    "df.sort_index(inplace=True)\n",
    "df"
   ]
  },
  {
   "cell_type": "markdown",
   "id": "428ed8a2",
   "metadata": {},
   "source": [
    "###### Our dataset is quite extensive which is starts in 2002 and end in 2018."
   ]
  },
  {
   "cell_type": "code",
   "execution_count": 4,
   "id": "dd5ad539",
   "metadata": {
    "ExecuteTime": {
     "end_time": "2022-10-25T03:42:45.873299Z",
     "start_time": "2022-10-25T03:42:45.860307Z"
    },
    "scrolled": true
   },
   "outputs": [
    {
     "data": {
      "text/plain": [
       "(143206, 1)"
      ]
     },
     "execution_count": 4,
     "metadata": {},
     "output_type": "execute_result"
    }
   ],
   "source": [
    "df.shape"
   ]
  },
  {
   "cell_type": "markdown",
   "id": "b5816186",
   "metadata": {},
   "source": [
    "###### so the data has 143206 rows and 1 column"
   ]
  },
  {
   "cell_type": "code",
   "execution_count": 5,
   "id": "529e7fb3",
   "metadata": {
    "ExecuteTime": {
     "end_time": "2022-10-25T03:42:45.904178Z",
     "start_time": "2022-10-25T03:42:45.876301Z"
    },
    "scrolled": true
   },
   "outputs": [
    {
     "name": "stdout",
     "output_type": "stream",
     "text": [
      "<class 'pandas.core.frame.DataFrame'>\n",
      "DatetimeIndex: 143206 entries, 2002-04-01 01:00:00 to 2018-08-03 00:00:00\n",
      "Data columns (total 1 columns):\n",
      " #   Column   Non-Null Count   Dtype  \n",
      "---  ------   --------------   -----  \n",
      " 0   PJMW_MW  143206 non-null  float64\n",
      "dtypes: float64(1)\n",
      "memory usage: 2.2 MB\n"
     ]
    }
   ],
   "source": [
    "df.info()"
   ]
  },
  {
   "cell_type": "code",
   "execution_count": 6,
   "id": "acf22b63",
   "metadata": {
    "ExecuteTime": {
     "end_time": "2022-10-25T03:42:45.934757Z",
     "start_time": "2022-10-25T03:42:45.904178Z"
    }
   },
   "outputs": [
    {
     "data": {
      "text/html": [
       "<div>\n",
       "<style scoped>\n",
       "    .dataframe tbody tr th:only-of-type {\n",
       "        vertical-align: middle;\n",
       "    }\n",
       "\n",
       "    .dataframe tbody tr th {\n",
       "        vertical-align: top;\n",
       "    }\n",
       "\n",
       "    .dataframe thead th {\n",
       "        text-align: right;\n",
       "    }\n",
       "</style>\n",
       "<table border=\"1\" class=\"dataframe\">\n",
       "  <thead>\n",
       "    <tr style=\"text-align: right;\">\n",
       "      <th></th>\n",
       "      <th>PJMW_MW</th>\n",
       "    </tr>\n",
       "  </thead>\n",
       "  <tbody>\n",
       "    <tr>\n",
       "      <th>count</th>\n",
       "      <td>143206.000000</td>\n",
       "    </tr>\n",
       "    <tr>\n",
       "      <th>mean</th>\n",
       "      <td>5602.375089</td>\n",
       "    </tr>\n",
       "    <tr>\n",
       "      <th>std</th>\n",
       "      <td>979.142872</td>\n",
       "    </tr>\n",
       "    <tr>\n",
       "      <th>min</th>\n",
       "      <td>487.000000</td>\n",
       "    </tr>\n",
       "    <tr>\n",
       "      <th>25%</th>\n",
       "      <td>4907.000000</td>\n",
       "    </tr>\n",
       "    <tr>\n",
       "      <th>50%</th>\n",
       "      <td>5530.000000</td>\n",
       "    </tr>\n",
       "    <tr>\n",
       "      <th>75%</th>\n",
       "      <td>6252.000000</td>\n",
       "    </tr>\n",
       "    <tr>\n",
       "      <th>max</th>\n",
       "      <td>9594.000000</td>\n",
       "    </tr>\n",
       "  </tbody>\n",
       "</table>\n",
       "</div>"
      ],
      "text/plain": [
       "             PJMW_MW\n",
       "count  143206.000000\n",
       "mean     5602.375089\n",
       "std       979.142872\n",
       "min       487.000000\n",
       "25%      4907.000000\n",
       "50%      5530.000000\n",
       "75%      6252.000000\n",
       "max      9594.000000"
      ]
     },
     "execution_count": 6,
     "metadata": {},
     "output_type": "execute_result"
    }
   ],
   "source": [
    "df.describe()"
   ]
  },
  {
   "cell_type": "markdown",
   "id": "65f976de",
   "metadata": {},
   "source": [
    "### duplicates values"
   ]
  },
  {
   "cell_type": "code",
   "execution_count": 7,
   "id": "63e625bb",
   "metadata": {
    "ExecuteTime": {
     "end_time": "2022-10-25T03:42:45.965702Z",
     "start_time": "2022-10-25T03:42:45.934757Z"
    },
    "scrolled": false
   },
   "outputs": [
    {
     "data": {
      "text/html": [
       "<div>\n",
       "<style scoped>\n",
       "    .dataframe tbody tr th:only-of-type {\n",
       "        vertical-align: middle;\n",
       "    }\n",
       "\n",
       "    .dataframe tbody tr th {\n",
       "        vertical-align: top;\n",
       "    }\n",
       "\n",
       "    .dataframe thead th {\n",
       "        text-align: right;\n",
       "    }\n",
       "</style>\n",
       "<table border=\"1\" class=\"dataframe\">\n",
       "  <thead>\n",
       "    <tr style=\"text-align: right;\">\n",
       "      <th></th>\n",
       "      <th>PJMW_MW</th>\n",
       "    </tr>\n",
       "    <tr>\n",
       "      <th>Datetime</th>\n",
       "      <th></th>\n",
       "    </tr>\n",
       "  </thead>\n",
       "  <tbody>\n",
       "    <tr>\n",
       "      <th>2014-11-02 02:00:00</th>\n",
       "      <td>4613.0</td>\n",
       "    </tr>\n",
       "    <tr>\n",
       "      <th>2015-11-01 02:00:00</th>\n",
       "      <td>3832.0</td>\n",
       "    </tr>\n",
       "    <tr>\n",
       "      <th>2016-11-06 02:00:00</th>\n",
       "      <td>4089.0</td>\n",
       "    </tr>\n",
       "    <tr>\n",
       "      <th>2017-11-05 02:00:00</th>\n",
       "      <td>4042.0</td>\n",
       "    </tr>\n",
       "  </tbody>\n",
       "</table>\n",
       "</div>"
      ],
      "text/plain": [
       "                     PJMW_MW\n",
       "Datetime                    \n",
       "2014-11-02 02:00:00   4613.0\n",
       "2015-11-01 02:00:00   3832.0\n",
       "2016-11-06 02:00:00   4089.0\n",
       "2017-11-05 02:00:00   4042.0"
      ]
     },
     "execution_count": 7,
     "metadata": {},
     "output_type": "execute_result"
    }
   ],
   "source": [
    "df[df.index.duplicated()]"
   ]
  },
  {
   "cell_type": "markdown",
   "id": "11de3c10",
   "metadata": {},
   "source": [
    "###### so there are 4 duplicates column found"
   ]
  },
  {
   "cell_type": "code",
   "execution_count": 8,
   "id": "24d6f623",
   "metadata": {
    "ExecuteTime": {
     "end_time": "2022-10-25T03:42:46.027554Z",
     "start_time": "2022-10-25T03:42:45.967769Z"
    },
    "scrolled": true
   },
   "outputs": [
    {
     "data": {
      "text/html": [
       "<div>\n",
       "<style scoped>\n",
       "    .dataframe tbody tr th:only-of-type {\n",
       "        vertical-align: middle;\n",
       "    }\n",
       "\n",
       "    .dataframe tbody tr th {\n",
       "        vertical-align: top;\n",
       "    }\n",
       "\n",
       "    .dataframe thead th {\n",
       "        text-align: right;\n",
       "    }\n",
       "</style>\n",
       "<table border=\"1\" class=\"dataframe\">\n",
       "  <thead>\n",
       "    <tr style=\"text-align: right;\">\n",
       "      <th></th>\n",
       "      <th>PJMW_MW</th>\n",
       "    </tr>\n",
       "    <tr>\n",
       "      <th>Datetime</th>\n",
       "      <th></th>\n",
       "    </tr>\n",
       "  </thead>\n",
       "  <tbody>\n",
       "    <tr>\n",
       "      <th>2002-04-01 01:00:00</th>\n",
       "      <td>4374.0</td>\n",
       "    </tr>\n",
       "    <tr>\n",
       "      <th>2002-04-01 02:00:00</th>\n",
       "      <td>4306.0</td>\n",
       "    </tr>\n",
       "    <tr>\n",
       "      <th>2002-04-01 03:00:00</th>\n",
       "      <td>4322.0</td>\n",
       "    </tr>\n",
       "    <tr>\n",
       "      <th>2002-04-01 04:00:00</th>\n",
       "      <td>4359.0</td>\n",
       "    </tr>\n",
       "    <tr>\n",
       "      <th>2002-04-01 05:00:00</th>\n",
       "      <td>4436.0</td>\n",
       "    </tr>\n",
       "    <tr>\n",
       "      <th>...</th>\n",
       "      <td>...</td>\n",
       "    </tr>\n",
       "    <tr>\n",
       "      <th>2018-08-02 20:00:00</th>\n",
       "      <td>6545.0</td>\n",
       "    </tr>\n",
       "    <tr>\n",
       "      <th>2018-08-02 21:00:00</th>\n",
       "      <td>6496.0</td>\n",
       "    </tr>\n",
       "    <tr>\n",
       "      <th>2018-08-02 22:00:00</th>\n",
       "      <td>6325.0</td>\n",
       "    </tr>\n",
       "    <tr>\n",
       "      <th>2018-08-02 23:00:00</th>\n",
       "      <td>5892.0</td>\n",
       "    </tr>\n",
       "    <tr>\n",
       "      <th>2018-08-03 00:00:00</th>\n",
       "      <td>5489.0</td>\n",
       "    </tr>\n",
       "  </tbody>\n",
       "</table>\n",
       "<p>143202 rows × 1 columns</p>\n",
       "</div>"
      ],
      "text/plain": [
       "                     PJMW_MW\n",
       "Datetime                    \n",
       "2002-04-01 01:00:00   4374.0\n",
       "2002-04-01 02:00:00   4306.0\n",
       "2002-04-01 03:00:00   4322.0\n",
       "2002-04-01 04:00:00   4359.0\n",
       "2002-04-01 05:00:00   4436.0\n",
       "...                      ...\n",
       "2018-08-02 20:00:00   6545.0\n",
       "2018-08-02 21:00:00   6496.0\n",
       "2018-08-02 22:00:00   6325.0\n",
       "2018-08-02 23:00:00   5892.0\n",
       "2018-08-03 00:00:00   5489.0\n",
       "\n",
       "[143202 rows x 1 columns]"
      ]
     },
     "execution_count": 8,
     "metadata": {},
     "output_type": "execute_result"
    }
   ],
   "source": [
    "df = df.groupby('Datetime').agg(np.mean)\n",
    "df"
   ]
  },
  {
   "cell_type": "markdown",
   "id": "b1b43f95",
   "metadata": {},
   "source": [
    "###### by replacing the duplicated values with mean values of the original value and its duplicated one then the numbers of rows  decreases in the data set.(as we have 4 duplicated values so the no of rows decreases is 4)"
   ]
  },
  {
   "cell_type": "code",
   "execution_count": 9,
   "id": "383f8d4c",
   "metadata": {
    "ExecuteTime": {
     "end_time": "2022-10-25T03:42:46.055921Z",
     "start_time": "2022-10-25T03:42:46.027554Z"
    }
   },
   "outputs": [],
   "source": [
    "## setting frequency\n",
    "df = df.asfreq('H')"
   ]
  },
  {
   "cell_type": "markdown",
   "id": "fa4c15cf",
   "metadata": {},
   "source": [
    "#### missing values"
   ]
  },
  {
   "cell_type": "code",
   "execution_count": 10,
   "id": "d09b3c8f",
   "metadata": {
    "ExecuteTime": {
     "end_time": "2022-10-25T03:42:46.071030Z",
     "start_time": "2022-10-25T03:42:46.060003Z"
    }
   },
   "outputs": [
    {
     "data": {
      "text/plain": [
       "PJMW_MW    30\n",
       "dtype: int64"
      ]
     },
     "execution_count": 10,
     "metadata": {},
     "output_type": "execute_result"
    }
   ],
   "source": [
    "df.isnull().sum()"
   ]
  },
  {
   "cell_type": "code",
   "execution_count": 11,
   "id": "15edaa74",
   "metadata": {
    "ExecuteTime": {
     "end_time": "2022-10-25T03:42:46.087142Z",
     "start_time": "2022-10-25T03:42:46.073404Z"
    }
   },
   "outputs": [
    {
     "data": {
      "text/html": [
       "<div>\n",
       "<style scoped>\n",
       "    .dataframe tbody tr th:only-of-type {\n",
       "        vertical-align: middle;\n",
       "    }\n",
       "\n",
       "    .dataframe tbody tr th {\n",
       "        vertical-align: top;\n",
       "    }\n",
       "\n",
       "    .dataframe thead th {\n",
       "        text-align: right;\n",
       "    }\n",
       "</style>\n",
       "<table border=\"1\" class=\"dataframe\">\n",
       "  <thead>\n",
       "    <tr style=\"text-align: right;\">\n",
       "      <th></th>\n",
       "      <th>PJMW_MW</th>\n",
       "    </tr>\n",
       "    <tr>\n",
       "      <th>Datetime</th>\n",
       "      <th></th>\n",
       "    </tr>\n",
       "  </thead>\n",
       "  <tbody>\n",
       "    <tr>\n",
       "      <th>2002-04-07 03:00:00</th>\n",
       "      <td>NaN</td>\n",
       "    </tr>\n",
       "    <tr>\n",
       "      <th>2002-10-27 02:00:00</th>\n",
       "      <td>NaN</td>\n",
       "    </tr>\n",
       "    <tr>\n",
       "      <th>2003-04-06 03:00:00</th>\n",
       "      <td>NaN</td>\n",
       "    </tr>\n",
       "    <tr>\n",
       "      <th>2003-10-26 02:00:00</th>\n",
       "      <td>NaN</td>\n",
       "    </tr>\n",
       "    <tr>\n",
       "      <th>2004-04-04 03:00:00</th>\n",
       "      <td>NaN</td>\n",
       "    </tr>\n",
       "    <tr>\n",
       "      <th>2004-10-31 02:00:00</th>\n",
       "      <td>NaN</td>\n",
       "    </tr>\n",
       "    <tr>\n",
       "      <th>2005-04-03 03:00:00</th>\n",
       "      <td>NaN</td>\n",
       "    </tr>\n",
       "    <tr>\n",
       "      <th>2005-10-30 02:00:00</th>\n",
       "      <td>NaN</td>\n",
       "    </tr>\n",
       "    <tr>\n",
       "      <th>2006-04-02 03:00:00</th>\n",
       "      <td>NaN</td>\n",
       "    </tr>\n",
       "    <tr>\n",
       "      <th>2006-10-29 02:00:00</th>\n",
       "      <td>NaN</td>\n",
       "    </tr>\n",
       "    <tr>\n",
       "      <th>2007-03-11 03:00:00</th>\n",
       "      <td>NaN</td>\n",
       "    </tr>\n",
       "    <tr>\n",
       "      <th>2007-11-04 02:00:00</th>\n",
       "      <td>NaN</td>\n",
       "    </tr>\n",
       "    <tr>\n",
       "      <th>2008-03-09 03:00:00</th>\n",
       "      <td>NaN</td>\n",
       "    </tr>\n",
       "    <tr>\n",
       "      <th>2008-11-02 02:00:00</th>\n",
       "      <td>NaN</td>\n",
       "    </tr>\n",
       "    <tr>\n",
       "      <th>2009-03-08 03:00:00</th>\n",
       "      <td>NaN</td>\n",
       "    </tr>\n",
       "    <tr>\n",
       "      <th>2009-11-01 02:00:00</th>\n",
       "      <td>NaN</td>\n",
       "    </tr>\n",
       "    <tr>\n",
       "      <th>2010-03-14 03:00:00</th>\n",
       "      <td>NaN</td>\n",
       "    </tr>\n",
       "    <tr>\n",
       "      <th>2010-11-07 02:00:00</th>\n",
       "      <td>NaN</td>\n",
       "    </tr>\n",
       "    <tr>\n",
       "      <th>2010-12-10 00:00:00</th>\n",
       "      <td>NaN</td>\n",
       "    </tr>\n",
       "    <tr>\n",
       "      <th>2011-03-13 03:00:00</th>\n",
       "      <td>NaN</td>\n",
       "    </tr>\n",
       "    <tr>\n",
       "      <th>2011-11-06 02:00:00</th>\n",
       "      <td>NaN</td>\n",
       "    </tr>\n",
       "    <tr>\n",
       "      <th>2012-03-11 03:00:00</th>\n",
       "      <td>NaN</td>\n",
       "    </tr>\n",
       "    <tr>\n",
       "      <th>2012-11-04 02:00:00</th>\n",
       "      <td>NaN</td>\n",
       "    </tr>\n",
       "    <tr>\n",
       "      <th>2013-03-10 03:00:00</th>\n",
       "      <td>NaN</td>\n",
       "    </tr>\n",
       "    <tr>\n",
       "      <th>2013-11-03 02:00:00</th>\n",
       "      <td>NaN</td>\n",
       "    </tr>\n",
       "    <tr>\n",
       "      <th>2014-03-09 03:00:00</th>\n",
       "      <td>NaN</td>\n",
       "    </tr>\n",
       "    <tr>\n",
       "      <th>2015-03-08 03:00:00</th>\n",
       "      <td>NaN</td>\n",
       "    </tr>\n",
       "    <tr>\n",
       "      <th>2016-03-13 03:00:00</th>\n",
       "      <td>NaN</td>\n",
       "    </tr>\n",
       "    <tr>\n",
       "      <th>2017-03-12 03:00:00</th>\n",
       "      <td>NaN</td>\n",
       "    </tr>\n",
       "    <tr>\n",
       "      <th>2018-03-11 03:00:00</th>\n",
       "      <td>NaN</td>\n",
       "    </tr>\n",
       "  </tbody>\n",
       "</table>\n",
       "</div>"
      ],
      "text/plain": [
       "                     PJMW_MW\n",
       "Datetime                    \n",
       "2002-04-07 03:00:00      NaN\n",
       "2002-10-27 02:00:00      NaN\n",
       "2003-04-06 03:00:00      NaN\n",
       "2003-10-26 02:00:00      NaN\n",
       "2004-04-04 03:00:00      NaN\n",
       "2004-10-31 02:00:00      NaN\n",
       "2005-04-03 03:00:00      NaN\n",
       "2005-10-30 02:00:00      NaN\n",
       "2006-04-02 03:00:00      NaN\n",
       "2006-10-29 02:00:00      NaN\n",
       "2007-03-11 03:00:00      NaN\n",
       "2007-11-04 02:00:00      NaN\n",
       "2008-03-09 03:00:00      NaN\n",
       "2008-11-02 02:00:00      NaN\n",
       "2009-03-08 03:00:00      NaN\n",
       "2009-11-01 02:00:00      NaN\n",
       "2010-03-14 03:00:00      NaN\n",
       "2010-11-07 02:00:00      NaN\n",
       "2010-12-10 00:00:00      NaN\n",
       "2011-03-13 03:00:00      NaN\n",
       "2011-11-06 02:00:00      NaN\n",
       "2012-03-11 03:00:00      NaN\n",
       "2012-11-04 02:00:00      NaN\n",
       "2013-03-10 03:00:00      NaN\n",
       "2013-11-03 02:00:00      NaN\n",
       "2014-03-09 03:00:00      NaN\n",
       "2015-03-08 03:00:00      NaN\n",
       "2016-03-13 03:00:00      NaN\n",
       "2017-03-12 03:00:00      NaN\n",
       "2018-03-11 03:00:00      NaN"
      ]
     },
     "execution_count": 11,
     "metadata": {},
     "output_type": "execute_result"
    }
   ],
   "source": [
    "df[df.isnull().values]"
   ]
  },
  {
   "cell_type": "code",
   "execution_count": 12,
   "id": "e14f8f1b",
   "metadata": {
    "ExecuteTime": {
     "end_time": "2022-10-25T03:42:46.102963Z",
     "start_time": "2022-10-25T03:42:46.087142Z"
    }
   },
   "outputs": [],
   "source": [
    "df['PJMW_MW'] = df['PJMW_MW'].interpolate() "
   ]
  },
  {
   "cell_type": "code",
   "execution_count": 13,
   "id": "c606ed7d",
   "metadata": {
    "ExecuteTime": {
     "end_time": "2022-10-25T03:42:46.118191Z",
     "start_time": "2022-10-25T03:42:46.102963Z"
    }
   },
   "outputs": [
    {
     "data": {
      "text/plain": [
       "Datetime\n",
       "2002-04-01 01:00:00    4374.0\n",
       "2002-04-01 02:00:00    4306.0\n",
       "2002-04-01 03:00:00    4322.0\n",
       "2002-04-01 04:00:00    4359.0\n",
       "2002-04-01 05:00:00    4436.0\n",
       "                        ...  \n",
       "2018-08-02 20:00:00    6545.0\n",
       "2018-08-02 21:00:00    6496.0\n",
       "2018-08-02 22:00:00    6325.0\n",
       "2018-08-02 23:00:00    5892.0\n",
       "2018-08-03 00:00:00    5489.0\n",
       "Freq: H, Name: PJMW_MW, Length: 143232, dtype: float64"
      ]
     },
     "execution_count": 13,
     "metadata": {},
     "output_type": "execute_result"
    }
   ],
   "source": [
    "df.PJMW_MW"
   ]
  },
  {
   "cell_type": "code",
   "execution_count": 14,
   "id": "58d4a305",
   "metadata": {
    "ExecuteTime": {
     "end_time": "2022-10-25T03:42:46.134425Z",
     "start_time": "2022-10-25T03:42:46.120319Z"
    },
    "scrolled": true
   },
   "outputs": [
    {
     "data": {
      "text/plain": [
       "PJMW_MW    0\n",
       "dtype: int64"
      ]
     },
     "execution_count": 14,
     "metadata": {},
     "output_type": "execute_result"
    }
   ],
   "source": [
    "df.isnull().sum()"
   ]
  },
  {
   "cell_type": "code",
   "execution_count": 15,
   "id": "09540cb9",
   "metadata": {
    "ExecuteTime": {
     "end_time": "2022-10-25T03:42:46.149508Z",
     "start_time": "2022-10-25T03:42:46.137702Z"
    },
    "scrolled": false
   },
   "outputs": [
    {
     "data": {
      "text/plain": [
       "(143232, 1)"
      ]
     },
     "execution_count": 15,
     "metadata": {},
     "output_type": "execute_result"
    }
   ],
   "source": [
    "df.shape"
   ]
  },
  {
   "cell_type": "code",
   "execution_count": 16,
   "id": "9771d557",
   "metadata": {
    "ExecuteTime": {
     "end_time": "2022-10-25T03:42:46.165549Z",
     "start_time": "2022-10-25T03:42:46.153725Z"
    }
   },
   "outputs": [],
   "source": [
    "def data_prep(df):\n",
    "    df2=pd.DataFrame()\n",
    "    df2['year'] = df.index.year\n",
    "    df2['month'] = df.index.month\n",
    "    df2['month_name'] = df.index.month_name()\n",
    "    df2['week_of_year'] = df.index.weekofyear\n",
    "    df2['quarter'] = df.index.quarter\n",
    "    df2['day_of_week'] = df.index.dayofweek\n",
    "    df2['day_of_week_name'] = df.index.day_name()\n",
    "    df2['day_of_month'] = df.index.day\n",
    "    df2['day_of_year'] = df.index.dayofyear\n",
    "    df2['hour'] = df.index.hour\n",
    "    df2['PJMW_MW']=df.PJMW_MW.values\n",
    "    \n",
    "    return df2"
   ]
  },
  {
   "cell_type": "code",
   "execution_count": 17,
   "id": "6cde9ddb",
   "metadata": {
    "ExecuteTime": {
     "end_time": "2022-10-25T03:42:50.485077Z",
     "start_time": "2022-10-25T03:42:46.169266Z"
    },
    "scrolled": true
   },
   "outputs": [
    {
     "name": "stderr",
     "output_type": "stream",
     "text": [
      "C:\\Users\\mrsks\\AppData\\Local\\Temp\\ipykernel_18152\\2083408773.py:6: FutureWarning: weekofyear and week have been deprecated, please use DatetimeIndex.isocalendar().week instead, which returns a Series. To exactly reproduce the behavior of week and weekofyear and return an Index, you may call pd.Int64Index(idx.isocalendar().week)\n",
      "  df2['week_of_year'] = df.index.weekofyear\n"
     ]
    }
   ],
   "source": [
    "df2=data_prep(df)"
   ]
  },
  {
   "cell_type": "code",
   "execution_count": 18,
   "id": "6467a9f6",
   "metadata": {
    "ExecuteTime": {
     "end_time": "2022-10-25T03:42:50.515943Z",
     "start_time": "2022-10-25T03:42:50.485077Z"
    },
    "scrolled": true
   },
   "outputs": [
    {
     "data": {
      "text/html": [
       "<div>\n",
       "<style scoped>\n",
       "    .dataframe tbody tr th:only-of-type {\n",
       "        vertical-align: middle;\n",
       "    }\n",
       "\n",
       "    .dataframe tbody tr th {\n",
       "        vertical-align: top;\n",
       "    }\n",
       "\n",
       "    .dataframe thead th {\n",
       "        text-align: right;\n",
       "    }\n",
       "</style>\n",
       "<table border=\"1\" class=\"dataframe\">\n",
       "  <thead>\n",
       "    <tr style=\"text-align: right;\">\n",
       "      <th></th>\n",
       "      <th>year</th>\n",
       "      <th>month</th>\n",
       "      <th>month_name</th>\n",
       "      <th>week_of_year</th>\n",
       "      <th>quarter</th>\n",
       "      <th>day_of_week</th>\n",
       "      <th>day_of_week_name</th>\n",
       "      <th>day_of_month</th>\n",
       "      <th>day_of_year</th>\n",
       "      <th>hour</th>\n",
       "      <th>PJMW_MW</th>\n",
       "    </tr>\n",
       "  </thead>\n",
       "  <tbody>\n",
       "    <tr>\n",
       "      <th>0</th>\n",
       "      <td>2002</td>\n",
       "      <td>4</td>\n",
       "      <td>April</td>\n",
       "      <td>14</td>\n",
       "      <td>2</td>\n",
       "      <td>0</td>\n",
       "      <td>Monday</td>\n",
       "      <td>1</td>\n",
       "      <td>91</td>\n",
       "      <td>1</td>\n",
       "      <td>4374.0</td>\n",
       "    </tr>\n",
       "    <tr>\n",
       "      <th>1</th>\n",
       "      <td>2002</td>\n",
       "      <td>4</td>\n",
       "      <td>April</td>\n",
       "      <td>14</td>\n",
       "      <td>2</td>\n",
       "      <td>0</td>\n",
       "      <td>Monday</td>\n",
       "      <td>1</td>\n",
       "      <td>91</td>\n",
       "      <td>2</td>\n",
       "      <td>4306.0</td>\n",
       "    </tr>\n",
       "    <tr>\n",
       "      <th>2</th>\n",
       "      <td>2002</td>\n",
       "      <td>4</td>\n",
       "      <td>April</td>\n",
       "      <td>14</td>\n",
       "      <td>2</td>\n",
       "      <td>0</td>\n",
       "      <td>Monday</td>\n",
       "      <td>1</td>\n",
       "      <td>91</td>\n",
       "      <td>3</td>\n",
       "      <td>4322.0</td>\n",
       "    </tr>\n",
       "    <tr>\n",
       "      <th>3</th>\n",
       "      <td>2002</td>\n",
       "      <td>4</td>\n",
       "      <td>April</td>\n",
       "      <td>14</td>\n",
       "      <td>2</td>\n",
       "      <td>0</td>\n",
       "      <td>Monday</td>\n",
       "      <td>1</td>\n",
       "      <td>91</td>\n",
       "      <td>4</td>\n",
       "      <td>4359.0</td>\n",
       "    </tr>\n",
       "    <tr>\n",
       "      <th>4</th>\n",
       "      <td>2002</td>\n",
       "      <td>4</td>\n",
       "      <td>April</td>\n",
       "      <td>14</td>\n",
       "      <td>2</td>\n",
       "      <td>0</td>\n",
       "      <td>Monday</td>\n",
       "      <td>1</td>\n",
       "      <td>91</td>\n",
       "      <td>5</td>\n",
       "      <td>4436.0</td>\n",
       "    </tr>\n",
       "    <tr>\n",
       "      <th>...</th>\n",
       "      <td>...</td>\n",
       "      <td>...</td>\n",
       "      <td>...</td>\n",
       "      <td>...</td>\n",
       "      <td>...</td>\n",
       "      <td>...</td>\n",
       "      <td>...</td>\n",
       "      <td>...</td>\n",
       "      <td>...</td>\n",
       "      <td>...</td>\n",
       "      <td>...</td>\n",
       "    </tr>\n",
       "    <tr>\n",
       "      <th>143227</th>\n",
       "      <td>2018</td>\n",
       "      <td>8</td>\n",
       "      <td>August</td>\n",
       "      <td>31</td>\n",
       "      <td>3</td>\n",
       "      <td>3</td>\n",
       "      <td>Thursday</td>\n",
       "      <td>2</td>\n",
       "      <td>214</td>\n",
       "      <td>20</td>\n",
       "      <td>6545.0</td>\n",
       "    </tr>\n",
       "    <tr>\n",
       "      <th>143228</th>\n",
       "      <td>2018</td>\n",
       "      <td>8</td>\n",
       "      <td>August</td>\n",
       "      <td>31</td>\n",
       "      <td>3</td>\n",
       "      <td>3</td>\n",
       "      <td>Thursday</td>\n",
       "      <td>2</td>\n",
       "      <td>214</td>\n",
       "      <td>21</td>\n",
       "      <td>6496.0</td>\n",
       "    </tr>\n",
       "    <tr>\n",
       "      <th>143229</th>\n",
       "      <td>2018</td>\n",
       "      <td>8</td>\n",
       "      <td>August</td>\n",
       "      <td>31</td>\n",
       "      <td>3</td>\n",
       "      <td>3</td>\n",
       "      <td>Thursday</td>\n",
       "      <td>2</td>\n",
       "      <td>214</td>\n",
       "      <td>22</td>\n",
       "      <td>6325.0</td>\n",
       "    </tr>\n",
       "    <tr>\n",
       "      <th>143230</th>\n",
       "      <td>2018</td>\n",
       "      <td>8</td>\n",
       "      <td>August</td>\n",
       "      <td>31</td>\n",
       "      <td>3</td>\n",
       "      <td>3</td>\n",
       "      <td>Thursday</td>\n",
       "      <td>2</td>\n",
       "      <td>214</td>\n",
       "      <td>23</td>\n",
       "      <td>5892.0</td>\n",
       "    </tr>\n",
       "    <tr>\n",
       "      <th>143231</th>\n",
       "      <td>2018</td>\n",
       "      <td>8</td>\n",
       "      <td>August</td>\n",
       "      <td>31</td>\n",
       "      <td>3</td>\n",
       "      <td>4</td>\n",
       "      <td>Friday</td>\n",
       "      <td>3</td>\n",
       "      <td>215</td>\n",
       "      <td>0</td>\n",
       "      <td>5489.0</td>\n",
       "    </tr>\n",
       "  </tbody>\n",
       "</table>\n",
       "<p>143232 rows × 11 columns</p>\n",
       "</div>"
      ],
      "text/plain": [
       "        year  month month_name  week_of_year  quarter  day_of_week  \\\n",
       "0       2002      4      April            14        2            0   \n",
       "1       2002      4      April            14        2            0   \n",
       "2       2002      4      April            14        2            0   \n",
       "3       2002      4      April            14        2            0   \n",
       "4       2002      4      April            14        2            0   \n",
       "...      ...    ...        ...           ...      ...          ...   \n",
       "143227  2018      8     August            31        3            3   \n",
       "143228  2018      8     August            31        3            3   \n",
       "143229  2018      8     August            31        3            3   \n",
       "143230  2018      8     August            31        3            3   \n",
       "143231  2018      8     August            31        3            4   \n",
       "\n",
       "       day_of_week_name  day_of_month  day_of_year  hour  PJMW_MW  \n",
       "0                Monday             1           91     1   4374.0  \n",
       "1                Monday             1           91     2   4306.0  \n",
       "2                Monday             1           91     3   4322.0  \n",
       "3                Monday             1           91     4   4359.0  \n",
       "4                Monday             1           91     5   4436.0  \n",
       "...                 ...           ...          ...   ...      ...  \n",
       "143227         Thursday             2          214    20   6545.0  \n",
       "143228         Thursday             2          214    21   6496.0  \n",
       "143229         Thursday             2          214    22   6325.0  \n",
       "143230         Thursday             2          214    23   5892.0  \n",
       "143231           Friday             3          215     0   5489.0  \n",
       "\n",
       "[143232 rows x 11 columns]"
      ]
     },
     "execution_count": 18,
     "metadata": {},
     "output_type": "execute_result"
    }
   ],
   "source": [
    "df2"
   ]
  },
  {
   "cell_type": "code",
   "execution_count": 19,
   "id": "b81fd312",
   "metadata": {
    "ExecuteTime": {
     "end_time": "2022-10-25T03:42:50.531039Z",
     "start_time": "2022-10-25T03:42:50.519231Z"
    },
    "scrolled": true
   },
   "outputs": [
    {
     "data": {
      "text/html": [
       "<div>\n",
       "<style scoped>\n",
       "    .dataframe tbody tr th:only-of-type {\n",
       "        vertical-align: middle;\n",
       "    }\n",
       "\n",
       "    .dataframe tbody tr th {\n",
       "        vertical-align: top;\n",
       "    }\n",
       "\n",
       "    .dataframe thead th {\n",
       "        text-align: right;\n",
       "    }\n",
       "</style>\n",
       "<table border=\"1\" class=\"dataframe\">\n",
       "  <thead>\n",
       "    <tr style=\"text-align: right;\">\n",
       "      <th></th>\n",
       "      <th>PJMW_MW</th>\n",
       "    </tr>\n",
       "    <tr>\n",
       "      <th>Datetime</th>\n",
       "      <th></th>\n",
       "    </tr>\n",
       "  </thead>\n",
       "  <tbody>\n",
       "    <tr>\n",
       "      <th>2002-04-01 01:00:00</th>\n",
       "      <td>4374.0</td>\n",
       "    </tr>\n",
       "    <tr>\n",
       "      <th>2002-04-01 02:00:00</th>\n",
       "      <td>4306.0</td>\n",
       "    </tr>\n",
       "    <tr>\n",
       "      <th>2002-04-01 03:00:00</th>\n",
       "      <td>4322.0</td>\n",
       "    </tr>\n",
       "    <tr>\n",
       "      <th>2002-04-01 04:00:00</th>\n",
       "      <td>4359.0</td>\n",
       "    </tr>\n",
       "    <tr>\n",
       "      <th>2002-04-01 05:00:00</th>\n",
       "      <td>4436.0</td>\n",
       "    </tr>\n",
       "    <tr>\n",
       "      <th>...</th>\n",
       "      <td>...</td>\n",
       "    </tr>\n",
       "    <tr>\n",
       "      <th>2018-08-02 20:00:00</th>\n",
       "      <td>6545.0</td>\n",
       "    </tr>\n",
       "    <tr>\n",
       "      <th>2018-08-02 21:00:00</th>\n",
       "      <td>6496.0</td>\n",
       "    </tr>\n",
       "    <tr>\n",
       "      <th>2018-08-02 22:00:00</th>\n",
       "      <td>6325.0</td>\n",
       "    </tr>\n",
       "    <tr>\n",
       "      <th>2018-08-02 23:00:00</th>\n",
       "      <td>5892.0</td>\n",
       "    </tr>\n",
       "    <tr>\n",
       "      <th>2018-08-03 00:00:00</th>\n",
       "      <td>5489.0</td>\n",
       "    </tr>\n",
       "  </tbody>\n",
       "</table>\n",
       "<p>143232 rows × 1 columns</p>\n",
       "</div>"
      ],
      "text/plain": [
       "                     PJMW_MW\n",
       "Datetime                    \n",
       "2002-04-01 01:00:00   4374.0\n",
       "2002-04-01 02:00:00   4306.0\n",
       "2002-04-01 03:00:00   4322.0\n",
       "2002-04-01 04:00:00   4359.0\n",
       "2002-04-01 05:00:00   4436.0\n",
       "...                      ...\n",
       "2018-08-02 20:00:00   6545.0\n",
       "2018-08-02 21:00:00   6496.0\n",
       "2018-08-02 22:00:00   6325.0\n",
       "2018-08-02 23:00:00   5892.0\n",
       "2018-08-03 00:00:00   5489.0\n",
       "\n",
       "[143232 rows x 1 columns]"
      ]
     },
     "execution_count": 19,
     "metadata": {},
     "output_type": "execute_result"
    }
   ],
   "source": [
    "df"
   ]
  },
  {
   "cell_type": "code",
   "execution_count": 20,
   "id": "0137ad9e",
   "metadata": {
    "ExecuteTime": {
     "end_time": "2022-10-25T03:42:50.592854Z",
     "start_time": "2022-10-25T03:42:50.534409Z"
    }
   },
   "outputs": [],
   "source": [
    "# Creating times grouped dataframes in order to analyse them\n",
    "df2_year = df2.groupby('year')['PJMW_MW'].mean()\n",
    "df2_month = df2.groupby('month_name', sort = False)['PJMW_MW'].mean()\n",
    "df2_week_of_year = df2.groupby('week_of_year')['PJMW_MW'].mean()\n",
    "df2_quarter = df2.groupby('quarter')['PJMW_MW'].mean()\n",
    "df2_day_of_week = df2.groupby('day_of_week_name', sort = False)['PJMW_MW'].mean()\n",
    "df2_day_of_month = df2.groupby('day_of_month')['PJMW_MW'].mean()\n",
    "df2_day_of_year = df2.groupby('day_of_year')['PJMW_MW'].mean()\n",
    "df2_hour = df2.groupby('hour')['PJMW_MW'].mean()"
   ]
  },
  {
   "cell_type": "markdown",
   "id": "43b8763e",
   "metadata": {},
   "source": [
    "### plot for yearly,monthly,weekly and hourly energy consumption."
   ]
  },
  {
   "cell_type": "code",
   "execution_count": 21,
   "id": "c27ad74f",
   "metadata": {
    "ExecuteTime": {
     "end_time": "2022-10-25T03:42:51.511069Z",
     "start_time": "2022-10-25T03:42:50.592854Z"
    },
    "scrolled": true
   },
   "outputs": [
    {
     "data": {
      "text/plain": [
       "Text(0, 0.5, 'Energy Consumption (MW)')"
      ]
     },
     "execution_count": 21,
     "metadata": {},
     "output_type": "execute_result"
    },
    {
     "data": {
      "image/png": "[encoded data removed]",
      "text/plain": [
       "<Figure size 864x432 with 1 Axes>"
      ]
     },
     "metadata": {
      "needs_background": "light"
     },
     "output_type": "display_data"
    }
   ],
   "source": [
    "df['PJMW_MW'].plot(figsize =(12,6))\n",
    "plt.title('PJM Light Energy Consumption')\n",
    "plt.ylabel('Energy Consumption (MW)')"
   ]
  },
  {
   "cell_type": "markdown",
   "id": "c3ae4052",
   "metadata": {},
   "source": [
    "###### With this volume of data, we can’t see much with the exception of some possible fluctuation linked to seasonality throughout the year.Let’s take a look at annual average consumption:"
   ]
  },
  {
   "cell_type": "code",
   "execution_count": 22,
   "id": "c0137ce4",
   "metadata": {
    "ExecuteTime": {
     "end_time": "2022-10-25T03:42:51.758560Z",
     "start_time": "2022-10-25T03:42:51.513217Z"
    },
    "scrolled": false
   },
   "outputs": [
    {
     "data": {
      "text/plain": [
       "Text(0, 0.5, 'Energy in MW')"
      ]
     },
     "execution_count": 22,
     "metadata": {},
     "output_type": "execute_result"
    },
    {
     "data": {
      "image/png": "[encoded data removed]",
      "text/plain": [
       "<Figure size 432x288 with 1 Axes>"
      ]
     },
     "metadata": {
      "needs_background": "light"
     },
     "output_type": "display_data"
    }
   ],
   "source": [
    "##  plotting mean of energy consumption for year\n",
    "sns.lineplot(x=df2_year.index,y=df2_year,data='df2')\n",
    "plt.title(\"Energy Consumption according to years \")\n",
    "plt.xlabel(\"year\")\n",
    "plt.ylabel(\"Energy in MW\")\n"
   ]
  },
  {
   "cell_type": "markdown",
   "id": "05061e3b",
   "metadata": {},
   "source": [
    "###### so from the above figure we can see that high amount of energy consumed in the year 2002-2006 and 2018 compared to the other years"
   ]
  },
  {
   "cell_type": "code",
   "execution_count": 23,
   "id": "a3f8e987",
   "metadata": {
    "ExecuteTime": {
     "end_time": "2022-10-25T03:42:51.904328Z",
     "start_time": "2022-10-25T03:42:51.758560Z"
    },
    "scrolled": false
   },
   "outputs": [
    {
     "data": {
      "image/png": "[encoded data removed]",
      "text/plain": [
       "<Figure size 432x288 with 1 Axes>"
      ]
     },
     "metadata": {
      "needs_background": "light"
     },
     "output_type": "display_data"
    }
   ],
   "source": [
    "##  plotting mean of energy consumption for months \n",
    "sns.lineplot(x=df2_month.index,y=df2_month,data='df2')\n",
    "plt.title(\"Energy Consumption according to months \")\n",
    "plt.xlabel(\"months\")\n",
    "plt.ylabel(\"Energy in MW\")\n",
    "plt.xticks(rotation=90)\n",
    "plt.show()"
   ]
  },
  {
   "cell_type": "markdown",
   "id": "7ed51cf3",
   "metadata": {},
   "source": [
    "###### For summer and winter months typically have higher energy demand while spring and fall are lower. This matches intuition that months with more extreme temperatures have more energy consumption (likely due to increased use of air conditioners/fans and heaters)."
   ]
  },
  {
   "cell_type": "code",
   "execution_count": 24,
   "id": "f47689a8",
   "metadata": {
    "ExecuteTime": {
     "end_time": "2022-10-25T03:42:52.029740Z",
     "start_time": "2022-10-25T03:42:51.904328Z"
    }
   },
   "outputs": [
    {
     "data": {
      "text/plain": [
       "Text(0, 0.5, 'Energy in MW')"
      ]
     },
     "execution_count": 24,
     "metadata": {},
     "output_type": "execute_result"
    },
    {
     "data": {
      "image/png": "[encoded data removed]",
      "text/plain": [
       "<Figure size 432x288 with 1 Axes>"
      ]
     },
     "metadata": {
      "needs_background": "light"
     },
     "output_type": "display_data"
    }
   ],
   "source": [
    "##  plotting mean of  energy consumption for day of week\n",
    "sns.lineplot(x=df2_day_of_week.index,y=df2_day_of_week,data='df2')\n",
    "plt.title(\"Energy Consumption according to day_of_week \")\n",
    "plt.xlabel(\"day_of_week\")\n",
    "plt.ylabel(\"Energy in MW\")"
   ]
  },
  {
   "cell_type": "markdown",
   "id": "64c2ba17",
   "metadata": {},
   "source": [
    "###### Energy consumption on Saturday and Sunday are lower. This reflects the intuition that energy use is typically lower on the weekends."
   ]
  },
  {
   "cell_type": "code",
   "execution_count": 25,
   "id": "e8f58b26",
   "metadata": {
    "ExecuteTime": {
     "end_time": "2022-10-25T03:42:52.180334Z",
     "start_time": "2022-10-25T03:42:52.029740Z"
    }
   },
   "outputs": [
    {
     "data": {
      "text/plain": [
       "Text(0, 0.5, 'Energy in MW')"
      ]
     },
     "execution_count": 25,
     "metadata": {},
     "output_type": "execute_result"
    },
    {
     "data": {
      "image/png": "[encoded data removed]",
      "text/plain": [
       "<Figure size 432x288 with 1 Axes>"
      ]
     },
     "metadata": {
      "needs_background": "light"
     },
     "output_type": "display_data"
    }
   ],
   "source": [
    "##  plotting  mean of energy consumption for day of month\n",
    "sns.lineplot(x=df2_day_of_month.index,y=df2_day_of_month,data='df2')\n",
    "plt.title(\"Energy Consumption according to day_of_month \")\n",
    "plt.xlabel(\"day_of_month\")\n",
    "plt.ylabel(\"Energy in MW\")"
   ]
  },
  {
   "cell_type": "code",
   "execution_count": 26,
   "id": "206b41df",
   "metadata": {
    "ExecuteTime": {
     "end_time": "2022-10-25T03:42:52.328388Z",
     "start_time": "2022-10-25T03:42:52.180334Z"
    },
    "scrolled": true
   },
   "outputs": [
    {
     "data": {
      "text/plain": [
       "Text(0, 0.5, 'Energy in MW')"
      ]
     },
     "execution_count": 26,
     "metadata": {},
     "output_type": "execute_result"
    },
    {
     "data": {
      "image/png": "[encoded data removed]",
      "text/plain": [
       "<Figure size 432x288 with 1 Axes>"
      ]
     },
     "metadata": {
      "needs_background": "light"
     },
     "output_type": "display_data"
    }
   ],
   "source": [
    "##  plotting mean of energy consumption for day of year\n",
    "sns.lineplot(x=df2_day_of_year.index,y=df2_day_of_year,data='df2')\n",
    "plt.title(\"Energy Consumption according to day_of_year\")\n",
    "plt.xlabel(\"day_of_year\")\n",
    "plt.ylabel(\"Energy in MW\")"
   ]
  },
  {
   "cell_type": "code",
   "execution_count": 27,
   "id": "900c66ac",
   "metadata": {
    "ExecuteTime": {
     "end_time": "2022-10-25T03:42:52.450416Z",
     "start_time": "2022-10-25T03:42:52.330974Z"
    },
    "scrolled": true
   },
   "outputs": [
    {
     "data": {
      "text/plain": [
       "Text(0, 0.5, 'Energy in MW')"
      ]
     },
     "execution_count": 27,
     "metadata": {},
     "output_type": "execute_result"
    },
    {
     "data": {
      "image/png": "[encoded data removed]",
      "text/plain": [
       "<Figure size 432x288 with 1 Axes>"
      ]
     },
     "metadata": {
      "needs_background": "light"
     },
     "output_type": "display_data"
    }
   ],
   "source": [
    "##  plotting mean of energy consumption for week of year\n",
    "sns.lineplot(x=df2_week_of_year.index,y=df2_week_of_year,data='df2')\n",
    "plt.title(\"Energy Consumption according to week_of_year \")\n",
    "plt.xlabel('week_of_year')\n",
    "plt.ylabel(\"Energy in MW\")"
   ]
  },
  {
   "cell_type": "code",
   "execution_count": 28,
   "id": "3734f8f5",
   "metadata": {
    "ExecuteTime": {
     "end_time": "2022-10-25T03:42:52.659730Z",
     "start_time": "2022-10-25T03:42:52.454460Z"
    },
    "scrolled": false
   },
   "outputs": [
    {
     "data": {
      "text/plain": [
       "Text(0, 0.5, 'Energy in MW')"
      ]
     },
     "execution_count": 28,
     "metadata": {},
     "output_type": "execute_result"
    },
    {
     "data": {
      "image/png": "[encoded data removed]",
      "text/plain": [
       "<Figure size 432x288 with 1 Axes>"
      ]
     },
     "metadata": {
      "needs_background": "light"
     },
     "output_type": "display_data"
    }
   ],
   "source": [
    "##  plotting mean of energy consumption for hour\n",
    "sns.lineplot(x=df2_hour.index,y=df2_hour,data='df2')\n",
    "plt.title(\"Energy Consumption according to hour \")\n",
    "plt.xlabel('hour')\n",
    "plt.ylabel(\"Energy in MW\")"
   ]
  },
  {
   "cell_type": "markdown",
   "id": "170bc5a7",
   "metadata": {},
   "source": [
    "###### Here we can see the daily trend of energy consumption decreasing from 8pm to 5am. This reflects intuition that energy demand is lower at night when consumers are typically asleep. We also see an upward trend between 5am to 7pm. This reflects intuition that energy demand increases as consumers begin their day and evening. "
   ]
  },
  {
   "cell_type": "markdown",
   "id": "77b26f0b",
   "metadata": {},
   "source": [
    "### Run an ETS Decomposition "
   ]
  },
  {
   "cell_type": "code",
   "execution_count": 29,
   "id": "c251f9cf",
   "metadata": {
    "ExecuteTime": {
     "end_time": "2022-10-25T03:42:52.830299Z",
     "start_time": "2022-10-25T03:42:52.659730Z"
    }
   },
   "outputs": [],
   "source": [
    "from statsmodels.tsa.seasonal import seasonal_decompose"
   ]
  },
  {
   "cell_type": "code",
   "execution_count": 30,
   "id": "42bf1c91",
   "metadata": {
    "ExecuteTime": {
     "end_time": "2022-10-25T03:42:54.364570Z",
     "start_time": "2022-10-25T03:42:52.830299Z"
    }
   },
   "outputs": [
    {
     "data": {
      "image/png": "[encoded data removed]",
      "text/plain": [
       "<Figure size 432x288 with 4 Axes>"
      ]
     },
     "execution_count": 30,
     "metadata": {},
     "output_type": "execute_result"
    },
    {
     "data": {
      "image/png": "[encoded data removed]",
      "text/plain": [
       "<Figure size 432x288 with 4 Axes>"
      ]
     },
     "metadata": {
      "needs_background": "light"
     },
     "output_type": "display_data"
    }
   ],
   "source": [
    "result_decomp = seasonal_decompose(df['PJMW_MW'], model='multiplicative', extrapolate_trend='freq', period=365*24 )\n",
    "result_decomp.plot()"
   ]
  },
  {
   "cell_type": "markdown",
   "id": "8bd131a9",
   "metadata": {},
   "source": [
    "### Energy Distribution:"
   ]
  },
  {
   "cell_type": "code",
   "execution_count": 31,
   "id": "f5147411",
   "metadata": {
    "ExecuteTime": {
     "end_time": "2022-10-25T03:42:55.555492Z",
     "start_time": "2022-10-25T03:42:54.364570Z"
    },
    "scrolled": true
   },
   "outputs": [
    {
     "name": "stderr",
     "output_type": "stream",
     "text": [
      "C:\\Users\\mrsks\\anaconda3\\lib\\site-packages\\seaborn\\distributions.py:2619: FutureWarning: `distplot` is a deprecated function and will be removed in a future version. Please adapt your code to use either `displot` (a figure-level function with similar flexibility) or `histplot` (an axes-level function for histograms).\n",
      "  warnings.warn(msg, FutureWarning)\n"
     ]
    },
    {
     "data": {
      "text/plain": [
       "Text(0.5, 1.0, 'Energy Distrinution')"
      ]
     },
     "execution_count": 31,
     "metadata": {},
     "output_type": "execute_result"
    },
    {
     "data": {
      "image/png": "[encoded data removed]",
      "text/plain": [
       "<Figure size 432x288 with 1 Axes>"
      ]
     },
     "metadata": {
      "needs_background": "light"
     },
     "output_type": "display_data"
    }
   ],
   "source": [
    "sns.distplot(df[\"PJMW_MW\"])\n",
    "plt.title(\"Energy Distrinution\")"
   ]
  },
  {
   "cell_type": "markdown",
   "id": "0a3d0c59",
   "metadata": {},
   "source": [
    "### Resampling of data "
   ]
  },
  {
   "cell_type": "code",
   "execution_count": 32,
   "id": "db206d41",
   "metadata": {
    "ExecuteTime": {
     "end_time": "2022-10-25T03:42:55.570767Z",
     "start_time": "2022-10-25T03:42:55.555998Z"
    }
   },
   "outputs": [],
   "source": [
    "newdf = df.resample('D').mean()"
   ]
  },
  {
   "cell_type": "code",
   "execution_count": 33,
   "id": "0cd0ebd0",
   "metadata": {
    "ExecuteTime": {
     "end_time": "2022-10-25T03:42:55.586541Z",
     "start_time": "2022-10-25T03:42:55.574183Z"
    },
    "scrolled": true
   },
   "outputs": [
    {
     "name": "stdout",
     "output_type": "stream",
     "text": [
      "Old Dataset :  (143232, 1)\n",
      "New Dataset :  (5969, 1)\n"
     ]
    }
   ],
   "source": [
    "print(\"Old Dataset : \", df.shape)\n",
    "print(\"New Dataset : \", newdf.shape)"
   ]
  },
  {
   "cell_type": "code",
   "execution_count": 34,
   "id": "97a3334f",
   "metadata": {
    "ExecuteTime": {
     "end_time": "2022-10-25T03:42:55.602249Z",
     "start_time": "2022-10-25T03:42:55.588047Z"
    }
   },
   "outputs": [
    {
     "data": {
      "text/html": [
       "<div>\n",
       "<style scoped>\n",
       "    .dataframe tbody tr th:only-of-type {\n",
       "        vertical-align: middle;\n",
       "    }\n",
       "\n",
       "    .dataframe tbody tr th {\n",
       "        vertical-align: top;\n",
       "    }\n",
       "\n",
       "    .dataframe thead th {\n",
       "        text-align: right;\n",
       "    }\n",
       "</style>\n",
       "<table border=\"1\" class=\"dataframe\">\n",
       "  <thead>\n",
       "    <tr style=\"text-align: right;\">\n",
       "      <th></th>\n",
       "      <th>PJMW_MW</th>\n",
       "    </tr>\n",
       "    <tr>\n",
       "      <th>Datetime</th>\n",
       "      <th></th>\n",
       "    </tr>\n",
       "  </thead>\n",
       "  <tbody>\n",
       "    <tr>\n",
       "      <th>2002-04-01</th>\n",
       "      <td>5271.173913</td>\n",
       "    </tr>\n",
       "    <tr>\n",
       "      <th>2002-04-02</th>\n",
       "      <td>5310.416667</td>\n",
       "    </tr>\n",
       "    <tr>\n",
       "      <th>2002-04-03</th>\n",
       "      <td>5325.916667</td>\n",
       "    </tr>\n",
       "    <tr>\n",
       "      <th>2002-04-04</th>\n",
       "      <td>5670.791667</td>\n",
       "    </tr>\n",
       "    <tr>\n",
       "      <th>2002-04-05</th>\n",
       "      <td>5686.125000</td>\n",
       "    </tr>\n",
       "  </tbody>\n",
       "</table>\n",
       "</div>"
      ],
      "text/plain": [
       "                PJMW_MW\n",
       "Datetime               \n",
       "2002-04-01  5271.173913\n",
       "2002-04-02  5310.416667\n",
       "2002-04-03  5325.916667\n",
       "2002-04-04  5670.791667\n",
       "2002-04-05  5686.125000"
      ]
     },
     "execution_count": 34,
     "metadata": {},
     "output_type": "execute_result"
    }
   ],
   "source": [
    "newdf.head()"
   ]
  },
  {
   "cell_type": "code",
   "execution_count": 35,
   "id": "e138a5c6",
   "metadata": {
    "ExecuteTime": {
     "end_time": "2022-10-25T03:42:55.618184Z",
     "start_time": "2022-10-25T03:42:55.603247Z"
    },
    "scrolled": true
   },
   "outputs": [
    {
     "data": {
      "text/html": [
       "<div>\n",
       "<style scoped>\n",
       "    .dataframe tbody tr th:only-of-type {\n",
       "        vertical-align: middle;\n",
       "    }\n",
       "\n",
       "    .dataframe tbody tr th {\n",
       "        vertical-align: top;\n",
       "    }\n",
       "\n",
       "    .dataframe thead th {\n",
       "        text-align: right;\n",
       "    }\n",
       "</style>\n",
       "<table border=\"1\" class=\"dataframe\">\n",
       "  <thead>\n",
       "    <tr style=\"text-align: right;\">\n",
       "      <th></th>\n",
       "      <th>PJMW_MW</th>\n",
       "    </tr>\n",
       "    <tr>\n",
       "      <th>Datetime</th>\n",
       "      <th></th>\n",
       "    </tr>\n",
       "  </thead>\n",
       "  <tbody>\n",
       "    <tr>\n",
       "      <th>2018-07-30</th>\n",
       "      <td>5492.708333</td>\n",
       "    </tr>\n",
       "    <tr>\n",
       "      <th>2018-07-31</th>\n",
       "      <td>5660.750000</td>\n",
       "    </tr>\n",
       "    <tr>\n",
       "      <th>2018-08-01</th>\n",
       "      <td>5959.708333</td>\n",
       "    </tr>\n",
       "    <tr>\n",
       "      <th>2018-08-02</th>\n",
       "      <td>5805.041667</td>\n",
       "    </tr>\n",
       "    <tr>\n",
       "      <th>2018-08-03</th>\n",
       "      <td>5489.000000</td>\n",
       "    </tr>\n",
       "  </tbody>\n",
       "</table>\n",
       "</div>"
      ],
      "text/plain": [
       "                PJMW_MW\n",
       "Datetime               \n",
       "2018-07-30  5492.708333\n",
       "2018-07-31  5660.750000\n",
       "2018-08-01  5959.708333\n",
       "2018-08-02  5805.041667\n",
       "2018-08-03  5489.000000"
      ]
     },
     "execution_count": 35,
     "metadata": {},
     "output_type": "execute_result"
    }
   ],
   "source": [
    "newdf.tail()"
   ]
  },
  {
   "cell_type": "code",
   "execution_count": 36,
   "id": "4d4683ad",
   "metadata": {
    "ExecuteTime": {
     "end_time": "2022-10-25T03:42:55.649621Z",
     "start_time": "2022-10-25T03:42:55.619289Z"
    }
   },
   "outputs": [
    {
     "data": {
      "text/html": [
       "<div>\n",
       "<style scoped>\n",
       "    .dataframe tbody tr th:only-of-type {\n",
       "        vertical-align: middle;\n",
       "    }\n",
       "\n",
       "    .dataframe tbody tr th {\n",
       "        vertical-align: top;\n",
       "    }\n",
       "\n",
       "    .dataframe thead th {\n",
       "        text-align: right;\n",
       "    }\n",
       "</style>\n",
       "<table border=\"1\" class=\"dataframe\">\n",
       "  <thead>\n",
       "    <tr style=\"text-align: right;\">\n",
       "      <th></th>\n",
       "      <th>PJMW_MW</th>\n",
       "    </tr>\n",
       "    <tr>\n",
       "      <th>Datetime</th>\n",
       "      <th></th>\n",
       "    </tr>\n",
       "  </thead>\n",
       "  <tbody>\n",
       "    <tr>\n",
       "      <th>2006-01-01</th>\n",
       "      <td>5021.833333</td>\n",
       "    </tr>\n",
       "    <tr>\n",
       "      <th>2006-01-02</th>\n",
       "      <td>5503.291667</td>\n",
       "    </tr>\n",
       "    <tr>\n",
       "      <th>2006-01-03</th>\n",
       "      <td>5798.000000</td>\n",
       "    </tr>\n",
       "    <tr>\n",
       "      <th>2006-01-04</th>\n",
       "      <td>5793.750000</td>\n",
       "    </tr>\n",
       "    <tr>\n",
       "      <th>2006-01-05</th>\n",
       "      <td>5866.625000</td>\n",
       "    </tr>\n",
       "    <tr>\n",
       "      <th>...</th>\n",
       "      <td>...</td>\n",
       "    </tr>\n",
       "    <tr>\n",
       "      <th>2018-07-30</th>\n",
       "      <td>5492.708333</td>\n",
       "    </tr>\n",
       "    <tr>\n",
       "      <th>2018-07-31</th>\n",
       "      <td>5660.750000</td>\n",
       "    </tr>\n",
       "    <tr>\n",
       "      <th>2018-08-01</th>\n",
       "      <td>5959.708333</td>\n",
       "    </tr>\n",
       "    <tr>\n",
       "      <th>2018-08-02</th>\n",
       "      <td>5805.041667</td>\n",
       "    </tr>\n",
       "    <tr>\n",
       "      <th>2018-08-03</th>\n",
       "      <td>5489.000000</td>\n",
       "    </tr>\n",
       "  </tbody>\n",
       "</table>\n",
       "<p>4598 rows × 1 columns</p>\n",
       "</div>"
      ],
      "text/plain": [
       "                PJMW_MW\n",
       "Datetime               \n",
       "2006-01-01  5021.833333\n",
       "2006-01-02  5503.291667\n",
       "2006-01-03  5798.000000\n",
       "2006-01-04  5793.750000\n",
       "2006-01-05  5866.625000\n",
       "...                 ...\n",
       "2018-07-30  5492.708333\n",
       "2018-07-31  5660.750000\n",
       "2018-08-01  5959.708333\n",
       "2018-08-02  5805.041667\n",
       "2018-08-03  5489.000000\n",
       "\n",
       "[4598 rows x 1 columns]"
      ]
     },
     "execution_count": 36,
     "metadata": {},
     "output_type": "execute_result"
    }
   ],
   "source": [
    "newdf.drop(newdf.index[:1371],axis=0,inplace=True)\n",
    "newdf"
   ]
  },
  {
   "cell_type": "code",
   "execution_count": 37,
   "id": "46e45d76",
   "metadata": {
    "ExecuteTime": {
     "end_time": "2022-10-25T03:42:55.665532Z",
     "start_time": "2022-10-25T03:42:55.653153Z"
    }
   },
   "outputs": [
    {
     "data": {
      "text/html": [
       "<div>\n",
       "<style scoped>\n",
       "    .dataframe tbody tr th:only-of-type {\n",
       "        vertical-align: middle;\n",
       "    }\n",
       "\n",
       "    .dataframe tbody tr th {\n",
       "        vertical-align: top;\n",
       "    }\n",
       "\n",
       "    .dataframe thead th {\n",
       "        text-align: right;\n",
       "    }\n",
       "</style>\n",
       "<table border=\"1\" class=\"dataframe\">\n",
       "  <thead>\n",
       "    <tr style=\"text-align: right;\">\n",
       "      <th></th>\n",
       "      <th>PJMW_MW</th>\n",
       "    </tr>\n",
       "    <tr>\n",
       "      <th>Datetime</th>\n",
       "      <th></th>\n",
       "    </tr>\n",
       "  </thead>\n",
       "  <tbody>\n",
       "    <tr>\n",
       "      <th>2006-01-01</th>\n",
       "      <td>5021</td>\n",
       "    </tr>\n",
       "    <tr>\n",
       "      <th>2006-01-02</th>\n",
       "      <td>5503</td>\n",
       "    </tr>\n",
       "    <tr>\n",
       "      <th>2006-01-03</th>\n",
       "      <td>5798</td>\n",
       "    </tr>\n",
       "    <tr>\n",
       "      <th>2006-01-04</th>\n",
       "      <td>5793</td>\n",
       "    </tr>\n",
       "    <tr>\n",
       "      <th>2006-01-05</th>\n",
       "      <td>5866</td>\n",
       "    </tr>\n",
       "    <tr>\n",
       "      <th>...</th>\n",
       "      <td>...</td>\n",
       "    </tr>\n",
       "    <tr>\n",
       "      <th>2018-07-30</th>\n",
       "      <td>5492</td>\n",
       "    </tr>\n",
       "    <tr>\n",
       "      <th>2018-07-31</th>\n",
       "      <td>5660</td>\n",
       "    </tr>\n",
       "    <tr>\n",
       "      <th>2018-08-01</th>\n",
       "      <td>5959</td>\n",
       "    </tr>\n",
       "    <tr>\n",
       "      <th>2018-08-02</th>\n",
       "      <td>5805</td>\n",
       "    </tr>\n",
       "    <tr>\n",
       "      <th>2018-08-03</th>\n",
       "      <td>5489</td>\n",
       "    </tr>\n",
       "  </tbody>\n",
       "</table>\n",
       "<p>4598 rows × 1 columns</p>\n",
       "</div>"
      ],
      "text/plain": [
       "            PJMW_MW\n",
       "Datetime           \n",
       "2006-01-01     5021\n",
       "2006-01-02     5503\n",
       "2006-01-03     5798\n",
       "2006-01-04     5793\n",
       "2006-01-05     5866\n",
       "...             ...\n",
       "2018-07-30     5492\n",
       "2018-07-31     5660\n",
       "2018-08-01     5959\n",
       "2018-08-02     5805\n",
       "2018-08-03     5489\n",
       "\n",
       "[4598 rows x 1 columns]"
      ]
     },
     "execution_count": 37,
     "metadata": {},
     "output_type": "execute_result"
    }
   ],
   "source": [
    "newdf=newdf.astype(int)\n",
    "newdf\n"
   ]
  },
  {
   "cell_type": "markdown",
   "id": "23491af8",
   "metadata": {},
   "source": [
    "### converting time series data set to regression data set"
   ]
  },
  {
   "cell_type": "code",
   "execution_count": 38,
   "id": "b2f68735",
   "metadata": {
    "ExecuteTime": {
     "end_time": "2022-10-25T03:42:55.680929Z",
     "start_time": "2022-10-25T03:42:55.665532Z"
    }
   },
   "outputs": [],
   "source": [
    "newdf['x1']=newdf['PJMW_MW'].shift(+1)\n",
    "newdf['x2']=newdf['PJMW_MW'].shift(+2)\n",
    "newdf['x3']=newdf['PJMW_MW'].shift(+3)\n",
    "newdf['x4']=newdf['PJMW_MW'].shift(+4)\n",
    "newdf['x5']=newdf['PJMW_MW'].shift(+5)\n",
    "newdf['x6']=newdf['PJMW_MW'].shift(+6)\n",
    "newdf['x7']=newdf['PJMW_MW'].shift(+7)"
   ]
  },
  {
   "cell_type": "code",
   "execution_count": 39,
   "id": "9cc4ff7a",
   "metadata": {
    "ExecuteTime": {
     "end_time": "2022-10-25T03:42:55.709492Z",
     "start_time": "2022-10-25T03:42:55.683974Z"
    },
    "scrolled": false
   },
   "outputs": [
    {
     "data": {
      "text/html": [
       "<div>\n",
       "<style scoped>\n",
       "    .dataframe tbody tr th:only-of-type {\n",
       "        vertical-align: middle;\n",
       "    }\n",
       "\n",
       "    .dataframe tbody tr th {\n",
       "        vertical-align: top;\n",
       "    }\n",
       "\n",
       "    .dataframe thead th {\n",
       "        text-align: right;\n",
       "    }\n",
       "</style>\n",
       "<table border=\"1\" class=\"dataframe\">\n",
       "  <thead>\n",
       "    <tr style=\"text-align: right;\">\n",
       "      <th></th>\n",
       "      <th>PJMW_MW</th>\n",
       "      <th>x1</th>\n",
       "      <th>x2</th>\n",
       "      <th>x3</th>\n",
       "      <th>x4</th>\n",
       "      <th>x5</th>\n",
       "      <th>x6</th>\n",
       "      <th>x7</th>\n",
       "    </tr>\n",
       "    <tr>\n",
       "      <th>Datetime</th>\n",
       "      <th></th>\n",
       "      <th></th>\n",
       "      <th></th>\n",
       "      <th></th>\n",
       "      <th></th>\n",
       "      <th></th>\n",
       "      <th></th>\n",
       "      <th></th>\n",
       "    </tr>\n",
       "  </thead>\n",
       "  <tbody>\n",
       "    <tr>\n",
       "      <th>2006-01-08</th>\n",
       "      <td>5383</td>\n",
       "      <td>6030.0</td>\n",
       "      <td>6178.0</td>\n",
       "      <td>5866.0</td>\n",
       "      <td>5793.0</td>\n",
       "      <td>5798.0</td>\n",
       "      <td>5503.0</td>\n",
       "      <td>5021.0</td>\n",
       "    </tr>\n",
       "    <tr>\n",
       "      <th>2006-01-09</th>\n",
       "      <td>5516</td>\n",
       "      <td>5383.0</td>\n",
       "      <td>6030.0</td>\n",
       "      <td>6178.0</td>\n",
       "      <td>5866.0</td>\n",
       "      <td>5793.0</td>\n",
       "      <td>5798.0</td>\n",
       "      <td>5503.0</td>\n",
       "    </tr>\n",
       "    <tr>\n",
       "      <th>2006-01-10</th>\n",
       "      <td>5634</td>\n",
       "      <td>5516.0</td>\n",
       "      <td>5383.0</td>\n",
       "      <td>6030.0</td>\n",
       "      <td>6178.0</td>\n",
       "      <td>5866.0</td>\n",
       "      <td>5793.0</td>\n",
       "      <td>5798.0</td>\n",
       "    </tr>\n",
       "    <tr>\n",
       "      <th>2006-01-11</th>\n",
       "      <td>5661</td>\n",
       "      <td>5634.0</td>\n",
       "      <td>5516.0</td>\n",
       "      <td>5383.0</td>\n",
       "      <td>6030.0</td>\n",
       "      <td>6178.0</td>\n",
       "      <td>5866.0</td>\n",
       "      <td>5793.0</td>\n",
       "    </tr>\n",
       "    <tr>\n",
       "      <th>2006-01-12</th>\n",
       "      <td>5536</td>\n",
       "      <td>5661.0</td>\n",
       "      <td>5634.0</td>\n",
       "      <td>5516.0</td>\n",
       "      <td>5383.0</td>\n",
       "      <td>6030.0</td>\n",
       "      <td>6178.0</td>\n",
       "      <td>5866.0</td>\n",
       "    </tr>\n",
       "    <tr>\n",
       "      <th>...</th>\n",
       "      <td>...</td>\n",
       "      <td>...</td>\n",
       "      <td>...</td>\n",
       "      <td>...</td>\n",
       "      <td>...</td>\n",
       "      <td>...</td>\n",
       "      <td>...</td>\n",
       "      <td>...</td>\n",
       "    </tr>\n",
       "    <tr>\n",
       "      <th>2018-07-30</th>\n",
       "      <td>5492</td>\n",
       "      <td>5293.0</td>\n",
       "      <td>5485.0</td>\n",
       "      <td>5978.0</td>\n",
       "      <td>6216.0</td>\n",
       "      <td>6036.0</td>\n",
       "      <td>6142.0</td>\n",
       "      <td>5900.0</td>\n",
       "    </tr>\n",
       "    <tr>\n",
       "      <th>2018-07-31</th>\n",
       "      <td>5660</td>\n",
       "      <td>5492.0</td>\n",
       "      <td>5293.0</td>\n",
       "      <td>5485.0</td>\n",
       "      <td>5978.0</td>\n",
       "      <td>6216.0</td>\n",
       "      <td>6036.0</td>\n",
       "      <td>6142.0</td>\n",
       "    </tr>\n",
       "    <tr>\n",
       "      <th>2018-08-01</th>\n",
       "      <td>5959</td>\n",
       "      <td>5660.0</td>\n",
       "      <td>5492.0</td>\n",
       "      <td>5293.0</td>\n",
       "      <td>5485.0</td>\n",
       "      <td>5978.0</td>\n",
       "      <td>6216.0</td>\n",
       "      <td>6036.0</td>\n",
       "    </tr>\n",
       "    <tr>\n",
       "      <th>2018-08-02</th>\n",
       "      <td>5805</td>\n",
       "      <td>5959.0</td>\n",
       "      <td>5660.0</td>\n",
       "      <td>5492.0</td>\n",
       "      <td>5293.0</td>\n",
       "      <td>5485.0</td>\n",
       "      <td>5978.0</td>\n",
       "      <td>6216.0</td>\n",
       "    </tr>\n",
       "    <tr>\n",
       "      <th>2018-08-03</th>\n",
       "      <td>5489</td>\n",
       "      <td>5805.0</td>\n",
       "      <td>5959.0</td>\n",
       "      <td>5660.0</td>\n",
       "      <td>5492.0</td>\n",
       "      <td>5293.0</td>\n",
       "      <td>5485.0</td>\n",
       "      <td>5978.0</td>\n",
       "    </tr>\n",
       "  </tbody>\n",
       "</table>\n",
       "<p>4591 rows × 8 columns</p>\n",
       "</div>"
      ],
      "text/plain": [
       "            PJMW_MW      x1      x2      x3      x4      x5      x6      x7\n",
       "Datetime                                                                   \n",
       "2006-01-08     5383  6030.0  6178.0  5866.0  5793.0  5798.0  5503.0  5021.0\n",
       "2006-01-09     5516  5383.0  6030.0  6178.0  5866.0  5793.0  5798.0  5503.0\n",
       "2006-01-10     5634  5516.0  5383.0  6030.0  6178.0  5866.0  5793.0  5798.0\n",
       "2006-01-11     5661  5634.0  5516.0  5383.0  6030.0  6178.0  5866.0  5793.0\n",
       "2006-01-12     5536  5661.0  5634.0  5516.0  5383.0  6030.0  6178.0  5866.0\n",
       "...             ...     ...     ...     ...     ...     ...     ...     ...\n",
       "2018-07-30     5492  5293.0  5485.0  5978.0  6216.0  6036.0  6142.0  5900.0\n",
       "2018-07-31     5660  5492.0  5293.0  5485.0  5978.0  6216.0  6036.0  6142.0\n",
       "2018-08-01     5959  5660.0  5492.0  5293.0  5485.0  5978.0  6216.0  6036.0\n",
       "2018-08-02     5805  5959.0  5660.0  5492.0  5293.0  5485.0  5978.0  6216.0\n",
       "2018-08-03     5489  5805.0  5959.0  5660.0  5492.0  5293.0  5485.0  5978.0\n",
       "\n",
       "[4591 rows x 8 columns]"
      ]
     },
     "execution_count": 39,
     "metadata": {},
     "output_type": "execute_result"
    }
   ],
   "source": [
    "newdf.dropna(inplace = True)\n",
    "newdf"
   ]
  },
  {
   "cell_type": "markdown",
   "id": "230e8449",
   "metadata": {},
   "source": [
    "### separate the x values and y values"
   ]
  },
  {
   "cell_type": "code",
   "execution_count": 40,
   "id": "9081c886",
   "metadata": {
    "ExecuteTime": {
     "end_time": "2022-10-25T03:42:55.725594Z",
     "start_time": "2022-10-25T03:42:55.709492Z"
    }
   },
   "outputs": [],
   "source": [
    "x=newdf.iloc[:,1:8]\n",
    "y=newdf.iloc[:,0]"
   ]
  },
  {
   "cell_type": "code",
   "execution_count": 41,
   "id": "237f24b2",
   "metadata": {
    "ExecuteTime": {
     "end_time": "2022-10-25T03:42:55.741821Z",
     "start_time": "2022-10-25T03:42:55.728077Z"
    },
    "scrolled": true
   },
   "outputs": [
    {
     "data": {
      "text/plain": [
       "Datetime\n",
       "2006-01-08    5383\n",
       "2006-01-09    5516\n",
       "2006-01-10    5634\n",
       "2006-01-11    5661\n",
       "2006-01-12    5536\n",
       "              ... \n",
       "2018-07-30    5492\n",
       "2018-07-31    5660\n",
       "2018-08-01    5959\n",
       "2018-08-02    5805\n",
       "2018-08-03    5489\n",
       "Freq: D, Name: PJMW_MW, Length: 4591, dtype: int32"
      ]
     },
     "execution_count": 41,
     "metadata": {},
     "output_type": "execute_result"
    }
   ],
   "source": [
    "y"
   ]
  },
  {
   "cell_type": "code",
   "execution_count": 42,
   "id": "681f5552",
   "metadata": {
    "ExecuteTime": {
     "end_time": "2022-10-25T03:42:55.774332Z",
     "start_time": "2022-10-25T03:42:55.742825Z"
    }
   },
   "outputs": [
    {
     "data": {
      "text/html": [
       "<div>\n",
       "<style scoped>\n",
       "    .dataframe tbody tr th:only-of-type {\n",
       "        vertical-align: middle;\n",
       "    }\n",
       "\n",
       "    .dataframe tbody tr th {\n",
       "        vertical-align: top;\n",
       "    }\n",
       "\n",
       "    .dataframe thead th {\n",
       "        text-align: right;\n",
       "    }\n",
       "</style>\n",
       "<table border=\"1\" class=\"dataframe\">\n",
       "  <thead>\n",
       "    <tr style=\"text-align: right;\">\n",
       "      <th></th>\n",
       "      <th>x1</th>\n",
       "      <th>x2</th>\n",
       "      <th>x3</th>\n",
       "      <th>x4</th>\n",
       "      <th>x5</th>\n",
       "      <th>x6</th>\n",
       "      <th>x7</th>\n",
       "    </tr>\n",
       "    <tr>\n",
       "      <th>Datetime</th>\n",
       "      <th></th>\n",
       "      <th></th>\n",
       "      <th></th>\n",
       "      <th></th>\n",
       "      <th></th>\n",
       "      <th></th>\n",
       "      <th></th>\n",
       "    </tr>\n",
       "  </thead>\n",
       "  <tbody>\n",
       "    <tr>\n",
       "      <th>2006-01-08</th>\n",
       "      <td>6030.0</td>\n",
       "      <td>6178.0</td>\n",
       "      <td>5866.0</td>\n",
       "      <td>5793.0</td>\n",
       "      <td>5798.0</td>\n",
       "      <td>5503.0</td>\n",
       "      <td>5021.0</td>\n",
       "    </tr>\n",
       "    <tr>\n",
       "      <th>2006-01-09</th>\n",
       "      <td>5383.0</td>\n",
       "      <td>6030.0</td>\n",
       "      <td>6178.0</td>\n",
       "      <td>5866.0</td>\n",
       "      <td>5793.0</td>\n",
       "      <td>5798.0</td>\n",
       "      <td>5503.0</td>\n",
       "    </tr>\n",
       "    <tr>\n",
       "      <th>2006-01-10</th>\n",
       "      <td>5516.0</td>\n",
       "      <td>5383.0</td>\n",
       "      <td>6030.0</td>\n",
       "      <td>6178.0</td>\n",
       "      <td>5866.0</td>\n",
       "      <td>5793.0</td>\n",
       "      <td>5798.0</td>\n",
       "    </tr>\n",
       "    <tr>\n",
       "      <th>2006-01-11</th>\n",
       "      <td>5634.0</td>\n",
       "      <td>5516.0</td>\n",
       "      <td>5383.0</td>\n",
       "      <td>6030.0</td>\n",
       "      <td>6178.0</td>\n",
       "      <td>5866.0</td>\n",
       "      <td>5793.0</td>\n",
       "    </tr>\n",
       "    <tr>\n",
       "      <th>2006-01-12</th>\n",
       "      <td>5661.0</td>\n",
       "      <td>5634.0</td>\n",
       "      <td>5516.0</td>\n",
       "      <td>5383.0</td>\n",
       "      <td>6030.0</td>\n",
       "      <td>6178.0</td>\n",
       "      <td>5866.0</td>\n",
       "    </tr>\n",
       "    <tr>\n",
       "      <th>...</th>\n",
       "      <td>...</td>\n",
       "      <td>...</td>\n",
       "      <td>...</td>\n",
       "      <td>...</td>\n",
       "      <td>...</td>\n",
       "      <td>...</td>\n",
       "      <td>...</td>\n",
       "    </tr>\n",
       "    <tr>\n",
       "      <th>2018-07-30</th>\n",
       "      <td>5293.0</td>\n",
       "      <td>5485.0</td>\n",
       "      <td>5978.0</td>\n",
       "      <td>6216.0</td>\n",
       "      <td>6036.0</td>\n",
       "      <td>6142.0</td>\n",
       "      <td>5900.0</td>\n",
       "    </tr>\n",
       "    <tr>\n",
       "      <th>2018-07-31</th>\n",
       "      <td>5492.0</td>\n",
       "      <td>5293.0</td>\n",
       "      <td>5485.0</td>\n",
       "      <td>5978.0</td>\n",
       "      <td>6216.0</td>\n",
       "      <td>6036.0</td>\n",
       "      <td>6142.0</td>\n",
       "    </tr>\n",
       "    <tr>\n",
       "      <th>2018-08-01</th>\n",
       "      <td>5660.0</td>\n",
       "      <td>5492.0</td>\n",
       "      <td>5293.0</td>\n",
       "      <td>5485.0</td>\n",
       "      <td>5978.0</td>\n",
       "      <td>6216.0</td>\n",
       "      <td>6036.0</td>\n",
       "    </tr>\n",
       "    <tr>\n",
       "      <th>2018-08-02</th>\n",
       "      <td>5959.0</td>\n",
       "      <td>5660.0</td>\n",
       "      <td>5492.0</td>\n",
       "      <td>5293.0</td>\n",
       "      <td>5485.0</td>\n",
       "      <td>5978.0</td>\n",
       "      <td>6216.0</td>\n",
       "    </tr>\n",
       "    <tr>\n",
       "      <th>2018-08-03</th>\n",
       "      <td>5805.0</td>\n",
       "      <td>5959.0</td>\n",
       "      <td>5660.0</td>\n",
       "      <td>5492.0</td>\n",
       "      <td>5293.0</td>\n",
       "      <td>5485.0</td>\n",
       "      <td>5978.0</td>\n",
       "    </tr>\n",
       "  </tbody>\n",
       "</table>\n",
       "<p>4591 rows × 7 columns</p>\n",
       "</div>"
      ],
      "text/plain": [
       "                x1      x2      x3      x4      x5      x6      x7\n",
       "Datetime                                                          \n",
       "2006-01-08  6030.0  6178.0  5866.0  5793.0  5798.0  5503.0  5021.0\n",
       "2006-01-09  5383.0  6030.0  6178.0  5866.0  5793.0  5798.0  5503.0\n",
       "2006-01-10  5516.0  5383.0  6030.0  6178.0  5866.0  5793.0  5798.0\n",
       "2006-01-11  5634.0  5516.0  5383.0  6030.0  6178.0  5866.0  5793.0\n",
       "2006-01-12  5661.0  5634.0  5516.0  5383.0  6030.0  6178.0  5866.0\n",
       "...            ...     ...     ...     ...     ...     ...     ...\n",
       "2018-07-30  5293.0  5485.0  5978.0  6216.0  6036.0  6142.0  5900.0\n",
       "2018-07-31  5492.0  5293.0  5485.0  5978.0  6216.0  6036.0  6142.0\n",
       "2018-08-01  5660.0  5492.0  5293.0  5485.0  5978.0  6216.0  6036.0\n",
       "2018-08-02  5959.0  5660.0  5492.0  5293.0  5485.0  5978.0  6216.0\n",
       "2018-08-03  5805.0  5959.0  5660.0  5492.0  5293.0  5485.0  5978.0\n",
       "\n",
       "[4591 rows x 7 columns]"
      ]
     },
     "execution_count": 42,
     "metadata": {},
     "output_type": "execute_result"
    }
   ],
   "source": [
    "x"
   ]
  },
  {
   "cell_type": "markdown",
   "id": "bb1b8c17",
   "metadata": {},
   "source": [
    "### splitting the data into tranning and testing"
   ]
  },
  {
   "cell_type": "code",
   "execution_count": 43,
   "id": "5387ca40",
   "metadata": {
    "ExecuteTime": {
     "end_time": "2022-10-25T03:42:55.789928Z",
     "start_time": "2022-10-25T03:42:55.775653Z"
    }
   },
   "outputs": [],
   "source": [
    "size_x = int(len(x)*0.92)\n",
    "size_y = int(len(y)*0.92)\n",
    "x_train,x_test,y_train,y_test = x.iloc[:size_x], x.iloc[size_x:], y.iloc[:size_y], y.iloc[size_y:]"
   ]
  },
  {
   "cell_type": "code",
   "execution_count": 44,
   "id": "095219f2",
   "metadata": {
    "ExecuteTime": {
     "end_time": "2022-10-25T03:42:55.821582Z",
     "start_time": "2022-10-25T03:42:55.791911Z"
    },
    "scrolled": true
   },
   "outputs": [
    {
     "data": {
      "text/html": [
       "<div>\n",
       "<style scoped>\n",
       "    .dataframe tbody tr th:only-of-type {\n",
       "        vertical-align: middle;\n",
       "    }\n",
       "\n",
       "    .dataframe tbody tr th {\n",
       "        vertical-align: top;\n",
       "    }\n",
       "\n",
       "    .dataframe thead th {\n",
       "        text-align: right;\n",
       "    }\n",
       "</style>\n",
       "<table border=\"1\" class=\"dataframe\">\n",
       "  <thead>\n",
       "    <tr style=\"text-align: right;\">\n",
       "      <th></th>\n",
       "      <th>x1</th>\n",
       "      <th>x2</th>\n",
       "      <th>x3</th>\n",
       "      <th>x4</th>\n",
       "      <th>x5</th>\n",
       "      <th>x6</th>\n",
       "      <th>x7</th>\n",
       "    </tr>\n",
       "    <tr>\n",
       "      <th>Datetime</th>\n",
       "      <th></th>\n",
       "      <th></th>\n",
       "      <th></th>\n",
       "      <th></th>\n",
       "      <th></th>\n",
       "      <th></th>\n",
       "      <th></th>\n",
       "    </tr>\n",
       "  </thead>\n",
       "  <tbody>\n",
       "    <tr>\n",
       "      <th>2006-01-08</th>\n",
       "      <td>6030.0</td>\n",
       "      <td>6178.0</td>\n",
       "      <td>5866.0</td>\n",
       "      <td>5793.0</td>\n",
       "      <td>5798.0</td>\n",
       "      <td>5503.0</td>\n",
       "      <td>5021.0</td>\n",
       "    </tr>\n",
       "    <tr>\n",
       "      <th>2006-01-09</th>\n",
       "      <td>5383.0</td>\n",
       "      <td>6030.0</td>\n",
       "      <td>6178.0</td>\n",
       "      <td>5866.0</td>\n",
       "      <td>5793.0</td>\n",
       "      <td>5798.0</td>\n",
       "      <td>5503.0</td>\n",
       "    </tr>\n",
       "    <tr>\n",
       "      <th>2006-01-10</th>\n",
       "      <td>5516.0</td>\n",
       "      <td>5383.0</td>\n",
       "      <td>6030.0</td>\n",
       "      <td>6178.0</td>\n",
       "      <td>5866.0</td>\n",
       "      <td>5793.0</td>\n",
       "      <td>5798.0</td>\n",
       "    </tr>\n",
       "    <tr>\n",
       "      <th>2006-01-11</th>\n",
       "      <td>5634.0</td>\n",
       "      <td>5516.0</td>\n",
       "      <td>5383.0</td>\n",
       "      <td>6030.0</td>\n",
       "      <td>6178.0</td>\n",
       "      <td>5866.0</td>\n",
       "      <td>5793.0</td>\n",
       "    </tr>\n",
       "    <tr>\n",
       "      <th>2006-01-12</th>\n",
       "      <td>5661.0</td>\n",
       "      <td>5634.0</td>\n",
       "      <td>5516.0</td>\n",
       "      <td>5383.0</td>\n",
       "      <td>6030.0</td>\n",
       "      <td>6178.0</td>\n",
       "      <td>5866.0</td>\n",
       "    </tr>\n",
       "    <tr>\n",
       "      <th>...</th>\n",
       "      <td>...</td>\n",
       "      <td>...</td>\n",
       "      <td>...</td>\n",
       "      <td>...</td>\n",
       "      <td>...</td>\n",
       "      <td>...</td>\n",
       "      <td>...</td>\n",
       "    </tr>\n",
       "    <tr>\n",
       "      <th>2017-07-27</th>\n",
       "      <td>5708.0</td>\n",
       "      <td>5542.0</td>\n",
       "      <td>6135.0</td>\n",
       "      <td>5634.0</td>\n",
       "      <td>5830.0</td>\n",
       "      <td>6677.0</td>\n",
       "      <td>6875.0</td>\n",
       "    </tr>\n",
       "    <tr>\n",
       "      <th>2017-07-28</th>\n",
       "      <td>6019.0</td>\n",
       "      <td>5708.0</td>\n",
       "      <td>5542.0</td>\n",
       "      <td>6135.0</td>\n",
       "      <td>5634.0</td>\n",
       "      <td>5830.0</td>\n",
       "      <td>6677.0</td>\n",
       "    </tr>\n",
       "    <tr>\n",
       "      <th>2017-07-29</th>\n",
       "      <td>5729.0</td>\n",
       "      <td>6019.0</td>\n",
       "      <td>5708.0</td>\n",
       "      <td>5542.0</td>\n",
       "      <td>6135.0</td>\n",
       "      <td>5634.0</td>\n",
       "      <td>5830.0</td>\n",
       "    </tr>\n",
       "    <tr>\n",
       "      <th>2017-07-30</th>\n",
       "      <td>4818.0</td>\n",
       "      <td>5729.0</td>\n",
       "      <td>6019.0</td>\n",
       "      <td>5708.0</td>\n",
       "      <td>5542.0</td>\n",
       "      <td>6135.0</td>\n",
       "      <td>5634.0</td>\n",
       "    </tr>\n",
       "    <tr>\n",
       "      <th>2017-07-31</th>\n",
       "      <td>4859.0</td>\n",
       "      <td>4818.0</td>\n",
       "      <td>5729.0</td>\n",
       "      <td>6019.0</td>\n",
       "      <td>5708.0</td>\n",
       "      <td>5542.0</td>\n",
       "      <td>6135.0</td>\n",
       "    </tr>\n",
       "  </tbody>\n",
       "</table>\n",
       "<p>4223 rows × 7 columns</p>\n",
       "</div>"
      ],
      "text/plain": [
       "                x1      x2      x3      x4      x5      x6      x7\n",
       "Datetime                                                          \n",
       "2006-01-08  6030.0  6178.0  5866.0  5793.0  5798.0  5503.0  5021.0\n",
       "2006-01-09  5383.0  6030.0  6178.0  5866.0  5793.0  5798.0  5503.0\n",
       "2006-01-10  5516.0  5383.0  6030.0  6178.0  5866.0  5793.0  5798.0\n",
       "2006-01-11  5634.0  5516.0  5383.0  6030.0  6178.0  5866.0  5793.0\n",
       "2006-01-12  5661.0  5634.0  5516.0  5383.0  6030.0  6178.0  5866.0\n",
       "...            ...     ...     ...     ...     ...     ...     ...\n",
       "2017-07-27  5708.0  5542.0  6135.0  5634.0  5830.0  6677.0  6875.0\n",
       "2017-07-28  6019.0  5708.0  5542.0  6135.0  5634.0  5830.0  6677.0\n",
       "2017-07-29  5729.0  6019.0  5708.0  5542.0  6135.0  5634.0  5830.0\n",
       "2017-07-30  4818.0  5729.0  6019.0  5708.0  5542.0  6135.0  5634.0\n",
       "2017-07-31  4859.0  4818.0  5729.0  6019.0  5708.0  5542.0  6135.0\n",
       "\n",
       "[4223 rows x 7 columns]"
      ]
     },
     "execution_count": 44,
     "metadata": {},
     "output_type": "execute_result"
    }
   ],
   "source": [
    "x_train"
   ]
  },
  {
   "cell_type": "code",
   "execution_count": 45,
   "id": "395e7a35",
   "metadata": {
    "ExecuteTime": {
     "end_time": "2022-10-25T03:42:55.853481Z",
     "start_time": "2022-10-25T03:42:55.823657Z"
    }
   },
   "outputs": [
    {
     "data": {
      "text/html": [
       "<div>\n",
       "<style scoped>\n",
       "    .dataframe tbody tr th:only-of-type {\n",
       "        vertical-align: middle;\n",
       "    }\n",
       "\n",
       "    .dataframe tbody tr th {\n",
       "        vertical-align: top;\n",
       "    }\n",
       "\n",
       "    .dataframe thead th {\n",
       "        text-align: right;\n",
       "    }\n",
       "</style>\n",
       "<table border=\"1\" class=\"dataframe\">\n",
       "  <thead>\n",
       "    <tr style=\"text-align: right;\">\n",
       "      <th></th>\n",
       "      <th>x1</th>\n",
       "      <th>x2</th>\n",
       "      <th>x3</th>\n",
       "      <th>x4</th>\n",
       "      <th>x5</th>\n",
       "      <th>x6</th>\n",
       "      <th>x7</th>\n",
       "    </tr>\n",
       "    <tr>\n",
       "      <th>Datetime</th>\n",
       "      <th></th>\n",
       "      <th></th>\n",
       "      <th></th>\n",
       "      <th></th>\n",
       "      <th></th>\n",
       "      <th></th>\n",
       "      <th></th>\n",
       "    </tr>\n",
       "  </thead>\n",
       "  <tbody>\n",
       "    <tr>\n",
       "      <th>2017-08-01</th>\n",
       "      <td>5757.0</td>\n",
       "      <td>4859.0</td>\n",
       "      <td>4818.0</td>\n",
       "      <td>5729.0</td>\n",
       "      <td>6019.0</td>\n",
       "      <td>5708.0</td>\n",
       "      <td>5542.0</td>\n",
       "    </tr>\n",
       "    <tr>\n",
       "      <th>2017-08-02</th>\n",
       "      <td>6015.0</td>\n",
       "      <td>5757.0</td>\n",
       "      <td>4859.0</td>\n",
       "      <td>4818.0</td>\n",
       "      <td>5729.0</td>\n",
       "      <td>6019.0</td>\n",
       "      <td>5708.0</td>\n",
       "    </tr>\n",
       "    <tr>\n",
       "      <th>2017-08-03</th>\n",
       "      <td>6215.0</td>\n",
       "      <td>6015.0</td>\n",
       "      <td>5757.0</td>\n",
       "      <td>4859.0</td>\n",
       "      <td>4818.0</td>\n",
       "      <td>5729.0</td>\n",
       "      <td>6019.0</td>\n",
       "    </tr>\n",
       "    <tr>\n",
       "      <th>2017-08-04</th>\n",
       "      <td>6205.0</td>\n",
       "      <td>6215.0</td>\n",
       "      <td>6015.0</td>\n",
       "      <td>5757.0</td>\n",
       "      <td>4859.0</td>\n",
       "      <td>4818.0</td>\n",
       "      <td>5729.0</td>\n",
       "    </tr>\n",
       "    <tr>\n",
       "      <th>2017-08-05</th>\n",
       "      <td>6108.0</td>\n",
       "      <td>6205.0</td>\n",
       "      <td>6215.0</td>\n",
       "      <td>6015.0</td>\n",
       "      <td>5757.0</td>\n",
       "      <td>4859.0</td>\n",
       "      <td>4818.0</td>\n",
       "    </tr>\n",
       "    <tr>\n",
       "      <th>...</th>\n",
       "      <td>...</td>\n",
       "      <td>...</td>\n",
       "      <td>...</td>\n",
       "      <td>...</td>\n",
       "      <td>...</td>\n",
       "      <td>...</td>\n",
       "      <td>...</td>\n",
       "    </tr>\n",
       "    <tr>\n",
       "      <th>2018-07-30</th>\n",
       "      <td>5293.0</td>\n",
       "      <td>5485.0</td>\n",
       "      <td>5978.0</td>\n",
       "      <td>6216.0</td>\n",
       "      <td>6036.0</td>\n",
       "      <td>6142.0</td>\n",
       "      <td>5900.0</td>\n",
       "    </tr>\n",
       "    <tr>\n",
       "      <th>2018-07-31</th>\n",
       "      <td>5492.0</td>\n",
       "      <td>5293.0</td>\n",
       "      <td>5485.0</td>\n",
       "      <td>5978.0</td>\n",
       "      <td>6216.0</td>\n",
       "      <td>6036.0</td>\n",
       "      <td>6142.0</td>\n",
       "    </tr>\n",
       "    <tr>\n",
       "      <th>2018-08-01</th>\n",
       "      <td>5660.0</td>\n",
       "      <td>5492.0</td>\n",
       "      <td>5293.0</td>\n",
       "      <td>5485.0</td>\n",
       "      <td>5978.0</td>\n",
       "      <td>6216.0</td>\n",
       "      <td>6036.0</td>\n",
       "    </tr>\n",
       "    <tr>\n",
       "      <th>2018-08-02</th>\n",
       "      <td>5959.0</td>\n",
       "      <td>5660.0</td>\n",
       "      <td>5492.0</td>\n",
       "      <td>5293.0</td>\n",
       "      <td>5485.0</td>\n",
       "      <td>5978.0</td>\n",
       "      <td>6216.0</td>\n",
       "    </tr>\n",
       "    <tr>\n",
       "      <th>2018-08-03</th>\n",
       "      <td>5805.0</td>\n",
       "      <td>5959.0</td>\n",
       "      <td>5660.0</td>\n",
       "      <td>5492.0</td>\n",
       "      <td>5293.0</td>\n",
       "      <td>5485.0</td>\n",
       "      <td>5978.0</td>\n",
       "    </tr>\n",
       "  </tbody>\n",
       "</table>\n",
       "<p>368 rows × 7 columns</p>\n",
       "</div>"
      ],
      "text/plain": [
       "                x1      x2      x3      x4      x5      x6      x7\n",
       "Datetime                                                          \n",
       "2017-08-01  5757.0  4859.0  4818.0  5729.0  6019.0  5708.0  5542.0\n",
       "2017-08-02  6015.0  5757.0  4859.0  4818.0  5729.0  6019.0  5708.0\n",
       "2017-08-03  6215.0  6015.0  5757.0  4859.0  4818.0  5729.0  6019.0\n",
       "2017-08-04  6205.0  6215.0  6015.0  5757.0  4859.0  4818.0  5729.0\n",
       "2017-08-05  6108.0  6205.0  6215.0  6015.0  5757.0  4859.0  4818.0\n",
       "...            ...     ...     ...     ...     ...     ...     ...\n",
       "2018-07-30  5293.0  5485.0  5978.0  6216.0  6036.0  6142.0  5900.0\n",
       "2018-07-31  5492.0  5293.0  5485.0  5978.0  6216.0  6036.0  6142.0\n",
       "2018-08-01  5660.0  5492.0  5293.0  5485.0  5978.0  6216.0  6036.0\n",
       "2018-08-02  5959.0  5660.0  5492.0  5293.0  5485.0  5978.0  6216.0\n",
       "2018-08-03  5805.0  5959.0  5660.0  5492.0  5293.0  5485.0  5978.0\n",
       "\n",
       "[368 rows x 7 columns]"
      ]
     },
     "execution_count": 45,
     "metadata": {},
     "output_type": "execute_result"
    }
   ],
   "source": [
    "x_test"
   ]
  },
  {
   "cell_type": "code",
   "execution_count": 46,
   "id": "ec6f82ee",
   "metadata": {
    "ExecuteTime": {
     "end_time": "2022-10-25T03:42:55.869940Z",
     "start_time": "2022-10-25T03:42:55.854988Z"
    }
   },
   "outputs": [
    {
     "data": {
      "text/plain": [
       "Datetime\n",
       "2006-01-08    5383\n",
       "2006-01-09    5516\n",
       "2006-01-10    5634\n",
       "2006-01-11    5661\n",
       "2006-01-12    5536\n",
       "              ... \n",
       "2017-07-27    6019\n",
       "2017-07-28    5729\n",
       "2017-07-29    4818\n",
       "2017-07-30    4859\n",
       "2017-07-31    5757\n",
       "Freq: D, Name: PJMW_MW, Length: 4223, dtype: int32"
      ]
     },
     "execution_count": 46,
     "metadata": {},
     "output_type": "execute_result"
    }
   ],
   "source": [
    "y_train"
   ]
  },
  {
   "cell_type": "code",
   "execution_count": 47,
   "id": "a1814a0d",
   "metadata": {
    "ExecuteTime": {
     "end_time": "2022-10-25T03:42:55.887113Z",
     "start_time": "2022-10-25T03:42:55.869940Z"
    },
    "scrolled": true
   },
   "outputs": [
    {
     "data": {
      "text/plain": [
       "Datetime\n",
       "2017-08-01    6015\n",
       "2017-08-02    6215\n",
       "2017-08-03    6205\n",
       "2017-08-04    6108\n",
       "2017-08-05    4997\n",
       "              ... \n",
       "2018-07-30    5492\n",
       "2018-07-31    5660\n",
       "2018-08-01    5959\n",
       "2018-08-02    5805\n",
       "2018-08-03    5489\n",
       "Freq: D, Name: PJMW_MW, Length: 368, dtype: int32"
      ]
     },
     "execution_count": 47,
     "metadata": {},
     "output_type": "execute_result"
    }
   ],
   "source": [
    "y_test"
   ]
  },
  {
   "cell_type": "markdown",
   "id": "cd89f9cf",
   "metadata": {},
   "source": [
    "### Building Random forest model"
   ]
  },
  {
   "cell_type": "code",
   "execution_count": 48,
   "id": "bbccb523",
   "metadata": {
    "ExecuteTime": {
     "end_time": "2022-10-25T03:42:56.332806Z",
     "start_time": "2022-10-25T03:42:55.887113Z"
    }
   },
   "outputs": [],
   "source": [
    "from sklearn.ensemble import RandomForestClassifier"
   ]
  },
  {
   "cell_type": "code",
   "execution_count": 49,
   "id": "81b49beb",
   "metadata": {
    "ExecuteTime": {
     "end_time": "2022-10-25T03:44:04.348254Z",
     "start_time": "2022-10-25T03:42:56.332806Z"
    }
   },
   "outputs": [],
   "source": [
    "r_model = RandomForestClassifier(n_estimators=100, max_features=3,random_state=40,criterion='gini').fit(x_train,y_train)"
   ]
  },
  {
   "cell_type": "code",
   "execution_count": 50,
   "id": "793b1659",
   "metadata": {
    "ExecuteTime": {
     "end_time": "2022-10-25T03:44:05.081621Z",
     "start_time": "2022-10-25T03:44:04.348254Z"
    }
   },
   "outputs": [],
   "source": [
    "r_pred=r_model.predict(x_test)"
   ]
  },
  {
   "cell_type": "code",
   "execution_count": 51,
   "id": "b13714fd",
   "metadata": {
    "ExecuteTime": {
     "end_time": "2022-10-25T03:44:05.097657Z",
     "start_time": "2022-10-25T03:44:05.081621Z"
    }
   },
   "outputs": [
    {
     "name": "stdout",
     "output_type": "stream",
     "text": [
      "MSE random forest Error: 236917.22826086957\n",
      "RMSE random forest Error: 486.7414388162051\n",
      "MAPE random forest: 6.47\n"
     ]
    }
   ],
   "source": [
    "from sklearn.metrics import mean_squared_error\n",
    "from math import sqrt\n",
    "from sklearn.metrics import mean_absolute_percentage_error\n",
    "\n",
    "rmse_rf=sqrt(mean_squared_error(r_pred,y_test))\n",
    "mse_rf= (mean_squared_error(r_pred,y_test))\n",
    "mape_rf=round((mean_absolute_percentage_error(r_pred,y_test)*100),3)\n",
    "\n",
    "\n",
    "\n",
    "\n",
    "print(f'MSE random forest Error: {mse_rf}\\nRMSE random forest Error: {rmse_rf}\\nMAPE random forest: {mape_rf}')"
   ]
  },
  {
   "cell_type": "markdown",
   "id": "fcb7d50a",
   "metadata": {},
   "source": [
    "### linear regression model"
   ]
  },
  {
   "cell_type": "code",
   "execution_count": 52,
   "id": "b20a1508",
   "metadata": {
    "ExecuteTime": {
     "end_time": "2022-10-25T03:44:05.126581Z",
     "start_time": "2022-10-25T03:44:05.099658Z"
    }
   },
   "outputs": [
    {
     "data": {
      "text/plain": [
       "LinearRegression()"
      ]
     },
     "execution_count": 52,
     "metadata": {},
     "output_type": "execute_result"
    }
   ],
   "source": [
    "from sklearn.linear_model import LinearRegression\n",
    "l_model=LinearRegression()\n",
    "l_model.fit(x_train,y_train)"
   ]
  },
  {
   "cell_type": "code",
   "execution_count": 53,
   "id": "eb10d7fc",
   "metadata": {
    "ExecuteTime": {
     "end_time": "2022-10-25T03:44:05.144301Z",
     "start_time": "2022-10-25T03:44:05.126581Z"
    }
   },
   "outputs": [],
   "source": [
    "l_pred=l_model.predict(x_test)"
   ]
  },
  {
   "cell_type": "code",
   "execution_count": 54,
   "id": "33530b4c",
   "metadata": {
    "ExecuteTime": {
     "end_time": "2022-10-25T03:44:05.160063Z",
     "start_time": "2022-10-25T03:44:05.145329Z"
    }
   },
   "outputs": [
    {
     "name": "stdout",
     "output_type": "stream",
     "text": [
      "MSE linear regression : 123245.29422721764\n",
      "RMSE linear regression : 351.0630915194841\n",
      "MAPE linear regression: 4.726\n"
     ]
    }
   ],
   "source": [
    "from sklearn.metrics import mean_squared_error\n",
    "from math import sqrt\n",
    "from sklearn.metrics import mean_absolute_percentage_error\n",
    "rmse_linr=sqrt(mean_squared_error(l_pred,y_test))\n",
    "mse_linr= (mean_squared_error(l_pred,y_test))\n",
    "mape_linr=round((mean_absolute_percentage_error(l_pred,y_test)*100),3)\n",
    "\n",
    "\n",
    "\n",
    "\n",
    "print(f'MSE linear regression : {mse_linr}\\nRMSE linear regression : {rmse_linr}\\nMAPE linear regression: {mape_linr}')"
   ]
  },
  {
   "cell_type": "markdown",
   "id": "ae0fb5ed",
   "metadata": {},
   "source": [
    "### calculating forecasting accuracy"
   ]
  },
  {
   "cell_type": "markdown",
   "id": "cc24d537",
   "metadata": {},
   "source": [
    "#### LR Model"
   ]
  },
  {
   "cell_type": "code",
   "execution_count": 55,
   "id": "a30d097d",
   "metadata": {
    "ExecuteTime": {
     "end_time": "2022-10-25T03:44:05.175853Z",
     "start_time": "2022-10-25T03:44:05.160063Z"
    }
   },
   "outputs": [
    {
     "data": {
      "text/plain": [
       "LinearRegression()"
      ]
     },
     "execution_count": 55,
     "metadata": {},
     "output_type": "execute_result"
    }
   ],
   "source": [
    "final_l_model=LinearRegression()\n",
    "\n",
    "final_l_model.fit(x,y)"
   ]
  },
  {
   "cell_type": "code",
   "execution_count": 56,
   "id": "ff80b8f4",
   "metadata": {
    "ExecuteTime": {
     "end_time": "2022-10-25T03:44:05.191097Z",
     "start_time": "2022-10-25T03:44:05.177380Z"
    }
   },
   "outputs": [],
   "source": [
    "forecast_check_data =np.array(newdf['PJMW_MW'][:'2018-07-04'][-7:])"
   ]
  },
  {
   "cell_type": "code",
   "execution_count": 57,
   "id": "38535e23",
   "metadata": {
    "ExecuteTime": {
     "end_time": "2022-10-25T03:44:05.206383Z",
     "start_time": "2022-10-25T03:44:05.194183Z"
    }
   },
   "outputs": [
    {
     "data": {
      "text/plain": [
       "array([6050, 6237, 6173, 6321, 6816, 6852, 6484])"
      ]
     },
     "execution_count": 57,
     "metadata": {},
     "output_type": "execute_result"
    }
   ],
   "source": [
    "forecast_check_data"
   ]
  },
  {
   "cell_type": "code",
   "execution_count": 58,
   "id": "271ba65b",
   "metadata": {
    "ExecuteTime": {
     "end_time": "2022-10-25T03:44:05.276496Z",
     "start_time": "2022-10-25T03:44:05.208384Z"
    },
    "scrolled": true
   },
   "outputs": [
    {
     "name": "stderr",
     "output_type": "stream",
     "text": [
      "C:\\Users\\mrsks\\anaconda3\\lib\\site-packages\\sklearn\\base.py:450: UserWarning: X does not have valid feature names, but LinearRegression was fitted with feature names\n",
      "  warnings.warn(\n",
      "C:\\Users\\mrsks\\anaconda3\\lib\\site-packages\\sklearn\\base.py:450: UserWarning: X does not have valid feature names, but LinearRegression was fitted with feature names\n",
      "  warnings.warn(\n",
      "C:\\Users\\mrsks\\anaconda3\\lib\\site-packages\\sklearn\\base.py:450: UserWarning: X does not have valid feature names, but LinearRegression was fitted with feature names\n",
      "  warnings.warn(\n",
      "C:\\Users\\mrsks\\anaconda3\\lib\\site-packages\\sklearn\\base.py:450: UserWarning: X does not have valid feature names, but LinearRegression was fitted with feature names\n",
      "  warnings.warn(\n",
      "C:\\Users\\mrsks\\anaconda3\\lib\\site-packages\\sklearn\\base.py:450: UserWarning: X does not have valid feature names, but LinearRegression was fitted with feature names\n",
      "  warnings.warn(\n",
      "C:\\Users\\mrsks\\anaconda3\\lib\\site-packages\\sklearn\\base.py:450: UserWarning: X does not have valid feature names, but LinearRegression was fitted with feature names\n",
      "  warnings.warn(\n",
      "C:\\Users\\mrsks\\anaconda3\\lib\\site-packages\\sklearn\\base.py:450: UserWarning: X does not have valid feature names, but LinearRegression was fitted with feature names\n",
      "  warnings.warn(\n",
      "C:\\Users\\mrsks\\anaconda3\\lib\\site-packages\\sklearn\\base.py:450: UserWarning: X does not have valid feature names, but LinearRegression was fitted with feature names\n",
      "  warnings.warn(\n",
      "C:\\Users\\mrsks\\anaconda3\\lib\\site-packages\\sklearn\\base.py:450: UserWarning: X does not have valid feature names, but LinearRegression was fitted with feature names\n",
      "  warnings.warn(\n",
      "C:\\Users\\mrsks\\anaconda3\\lib\\site-packages\\sklearn\\base.py:450: UserWarning: X does not have valid feature names, but LinearRegression was fitted with feature names\n",
      "  warnings.warn(\n",
      "C:\\Users\\mrsks\\anaconda3\\lib\\site-packages\\sklearn\\base.py:450: UserWarning: X does not have valid feature names, but LinearRegression was fitted with feature names\n",
      "  warnings.warn(\n",
      "C:\\Users\\mrsks\\anaconda3\\lib\\site-packages\\sklearn\\base.py:450: UserWarning: X does not have valid feature names, but LinearRegression was fitted with feature names\n",
      "  warnings.warn(\n",
      "C:\\Users\\mrsks\\anaconda3\\lib\\site-packages\\sklearn\\base.py:450: UserWarning: X does not have valid feature names, but LinearRegression was fitted with feature names\n",
      "  warnings.warn(\n",
      "C:\\Users\\mrsks\\anaconda3\\lib\\site-packages\\sklearn\\base.py:450: UserWarning: X does not have valid feature names, but LinearRegression was fitted with feature names\n",
      "  warnings.warn(\n",
      "C:\\Users\\mrsks\\anaconda3\\lib\\site-packages\\sklearn\\base.py:450: UserWarning: X does not have valid feature names, but LinearRegression was fitted with feature names\n",
      "  warnings.warn(\n",
      "C:\\Users\\mrsks\\anaconda3\\lib\\site-packages\\sklearn\\base.py:450: UserWarning: X does not have valid feature names, but LinearRegression was fitted with feature names\n",
      "  warnings.warn(\n",
      "C:\\Users\\mrsks\\anaconda3\\lib\\site-packages\\sklearn\\base.py:450: UserWarning: X does not have valid feature names, but LinearRegression was fitted with feature names\n",
      "  warnings.warn(\n",
      "C:\\Users\\mrsks\\anaconda3\\lib\\site-packages\\sklearn\\base.py:450: UserWarning: X does not have valid feature names, but LinearRegression was fitted with feature names\n",
      "  warnings.warn(\n",
      "C:\\Users\\mrsks\\anaconda3\\lib\\site-packages\\sklearn\\base.py:450: UserWarning: X does not have valid feature names, but LinearRegression was fitted with feature names\n",
      "  warnings.warn(\n",
      "C:\\Users\\mrsks\\anaconda3\\lib\\site-packages\\sklearn\\base.py:450: UserWarning: X does not have valid feature names, but LinearRegression was fitted with feature names\n",
      "  warnings.warn(\n",
      "C:\\Users\\mrsks\\anaconda3\\lib\\site-packages\\sklearn\\base.py:450: UserWarning: X does not have valid feature names, but LinearRegression was fitted with feature names\n",
      "  warnings.warn(\n",
      "C:\\Users\\mrsks\\anaconda3\\lib\\site-packages\\sklearn\\base.py:450: UserWarning: X does not have valid feature names, but LinearRegression was fitted with feature names\n",
      "  warnings.warn(\n",
      "C:\\Users\\mrsks\\anaconda3\\lib\\site-packages\\sklearn\\base.py:450: UserWarning: X does not have valid feature names, but LinearRegression was fitted with feature names\n",
      "  warnings.warn(\n",
      "C:\\Users\\mrsks\\anaconda3\\lib\\site-packages\\sklearn\\base.py:450: UserWarning: X does not have valid feature names, but LinearRegression was fitted with feature names\n",
      "  warnings.warn(\n",
      "C:\\Users\\mrsks\\anaconda3\\lib\\site-packages\\sklearn\\base.py:450: UserWarning: X does not have valid feature names, but LinearRegression was fitted with feature names\n",
      "  warnings.warn(\n",
      "C:\\Users\\mrsks\\anaconda3\\lib\\site-packages\\sklearn\\base.py:450: UserWarning: X does not have valid feature names, but LinearRegression was fitted with feature names\n",
      "  warnings.warn(\n",
      "C:\\Users\\mrsks\\anaconda3\\lib\\site-packages\\sklearn\\base.py:450: UserWarning: X does not have valid feature names, but LinearRegression was fitted with feature names\n",
      "  warnings.warn(\n",
      "C:\\Users\\mrsks\\anaconda3\\lib\\site-packages\\sklearn\\base.py:450: UserWarning: X does not have valid feature names, but LinearRegression was fitted with feature names\n",
      "  warnings.warn(\n",
      "C:\\Users\\mrsks\\anaconda3\\lib\\site-packages\\sklearn\\base.py:450: UserWarning: X does not have valid feature names, but LinearRegression was fitted with feature names\n",
      "  warnings.warn(\n",
      "C:\\Users\\mrsks\\anaconda3\\lib\\site-packages\\sklearn\\base.py:450: UserWarning: X does not have valid feature names, but LinearRegression was fitted with feature names\n",
      "  warnings.warn(\n"
     ]
    }
   ],
   "source": [
    "z=forecast_check_data\n",
    "\n",
    "for i in range(0,30):\n",
    "    ck=z[-7:]\n",
    "    ck=np.array([ck])\n",
    "    lin_f_chk=final_l_model.predict(ck)\n",
    "    z=np.append(z,lin_f_chk)\n",
    "    i=+1\n",
    "future_pred_lr=z[-30:]"
   ]
  },
  {
   "cell_type": "code",
   "execution_count": 59,
   "id": "5d384ddc",
   "metadata": {
    "ExecuteTime": {
     "end_time": "2022-10-25T03:44:05.291976Z",
     "start_time": "2022-10-25T03:44:05.276496Z"
    }
   },
   "outputs": [],
   "source": [
    "import warnings"
   ]
  },
  {
   "cell_type": "code",
   "execution_count": 60,
   "id": "819894f4",
   "metadata": {
    "ExecuteTime": {
     "end_time": "2022-10-25T03:44:05.305361Z",
     "start_time": "2022-10-25T03:44:05.293089Z"
    }
   },
   "outputs": [
    {
     "data": {
      "text/plain": [
       "array([6069.0194465 , 6208.79020897, 6133.44290887, 6129.59221219,\n",
       "       6520.11926819, 6666.63027723, 6624.37000066, 6093.73453685,\n",
       "       6214.79745371, 6114.39008362, 6028.39346697, 6326.9000919 ,\n",
       "       6377.01077386, 6711.98261128, 6072.12759462, 6261.2843317 ,\n",
       "       6095.41502886, 5960.64692936, 6279.54306903, 6007.85453024,\n",
       "       6803.78226801, 5947.4147726 , 6358.19747061, 6074.72569598,\n",
       "       5857.79756547, 6420.99696237, 5528.97743874, 7005.86513244,\n",
       "       5650.47059056, 6523.6687496 ])"
      ]
     },
     "execution_count": 60,
     "metadata": {},
     "output_type": "execute_result"
    }
   ],
   "source": [
    "future_pred_lr"
   ]
  },
  {
   "cell_type": "code",
   "execution_count": 61,
   "id": "36a5a1c0",
   "metadata": {
    "ExecuteTime": {
     "end_time": "2022-10-25T03:44:05.321399Z",
     "start_time": "2022-10-25T03:44:05.305864Z"
    }
   },
   "outputs": [],
   "source": [
    "future_chk = pd.date_range('2018-07-05','2018-08-03', freq='D')\n",
    "future_chk_df = pd.DataFrame(index=future_chk)"
   ]
  },
  {
   "cell_type": "code",
   "execution_count": 62,
   "id": "f05bc6d0",
   "metadata": {
    "ExecuteTime": {
     "end_time": "2022-10-25T03:44:05.337114Z",
     "start_time": "2022-10-25T03:44:05.322620Z"
    }
   },
   "outputs": [],
   "source": [
    "future_chk_df['future_chk_energy'] = future_pred_lr.tolist()"
   ]
  },
  {
   "cell_type": "code",
   "execution_count": 63,
   "id": "301ad704",
   "metadata": {
    "ExecuteTime": {
     "end_time": "2022-10-25T03:44:05.354127Z",
     "start_time": "2022-10-25T03:44:05.339259Z"
    }
   },
   "outputs": [],
   "source": [
    "newdf_last_30 = newdf['PJMW_MW'].tail(30)"
   ]
  },
  {
   "cell_type": "code",
   "execution_count": 64,
   "id": "0b43fdeb",
   "metadata": {
    "ExecuteTime": {
     "end_time": "2022-10-25T03:44:05.367108Z",
     "start_time": "2022-10-25T03:44:05.354127Z"
    }
   },
   "outputs": [],
   "source": [
    "MAPE_check= round((mean_absolute_percentage_error(newdf_last_30 ,future_chk_df)*100),3)"
   ]
  },
  {
   "cell_type": "code",
   "execution_count": 65,
   "id": "18af979a",
   "metadata": {
    "ExecuteTime": {
     "end_time": "2022-10-25T03:44:05.399656Z",
     "start_time": "2022-10-25T03:44:05.369115Z"
    }
   },
   "outputs": [],
   "source": [
    "RMSE_check=sqrt(mean_squared_error(future_chk_df,newdf_last_30))"
   ]
  },
  {
   "cell_type": "code",
   "execution_count": 66,
   "id": "0d10527d",
   "metadata": {
    "ExecuteTime": {
     "end_time": "2022-10-25T03:44:05.415631Z",
     "start_time": "2022-10-25T03:44:05.402494Z"
    },
    "scrolled": false
   },
   "outputs": [
    {
     "name": "stdout",
     "output_type": "stream",
     "text": [
      "RMSE for forecast check is: 589.3402105235938\n",
      "MAPE for forecast check is: 8.353\n"
     ]
    }
   ],
   "source": [
    "print('RMSE for forecast check is:',RMSE_check)\n",
    "print('MAPE for forecast check is:',MAPE_check)"
   ]
  },
  {
   "cell_type": "code",
   "execution_count": 67,
   "id": "a88fbb94",
   "metadata": {
    "ExecuteTime": {
     "end_time": "2022-10-25T03:44:05.664819Z",
     "start_time": "2022-10-25T03:44:05.417828Z"
    },
    "scrolled": true
   },
   "outputs": [
    {
     "data": {
      "image/png": "[encoded data removed]",
      "text/plain": [
       "<Figure size 1008x360 with 1 Axes>"
      ]
     },
     "metadata": {
      "needs_background": "light"
     },
     "output_type": "display_data"
    }
   ],
   "source": [
    "plt.figure(figsize=(14,5))\n",
    "plt.title(\"Power consumption forecasting by LR\", fontsize=25)\n",
    "\n",
    "plt.plot(newdf[-90:].PJMW_MW, label='Actual values', color=\"blue\", marker=\"o\")\n",
    "\n",
    "plt.plot(future_chk_df.index,future_chk_df.values, label='Forecast', color=\"orange\", marker=\"o\")\n",
    "# plt.fill_between(future_df.index, lower_limits_f, upper_limits_f, alpha=0.1, color=\"orange\")\n",
    "\n",
    "plt.axvline(future_chk_df.index[1], color=\"red\", linestyle=\"--\")\n",
    "plt.legend(fontsize=12, fancybox=True, shadow=True, frameon=True)\n",
    "plt.ylabel('Power consumption', fontsize=15)\n",
    "plt.show()"
   ]
  },
  {
   "cell_type": "markdown",
   "id": "50a5cb70",
   "metadata": {},
   "source": [
    "### Forecast for future  using linear regression model"
   ]
  },
  {
   "cell_type": "code",
   "execution_count": 68,
   "id": "0431904b",
   "metadata": {
    "ExecuteTime": {
     "end_time": "2022-10-25T03:44:05.679796Z",
     "start_time": "2022-10-25T03:44:05.664819Z"
    }
   },
   "outputs": [
    {
     "data": {
      "text/plain": [
       "LinearRegression()"
      ]
     },
     "execution_count": 68,
     "metadata": {},
     "output_type": "execute_result"
    }
   ],
   "source": [
    "final_l_model=LinearRegression()\n",
    "\n",
    "final_l_model.fit(x,y)"
   ]
  },
  {
   "cell_type": "code",
   "execution_count": 69,
   "id": "bdf1e37c",
   "metadata": {
    "ExecuteTime": {
     "end_time": "2022-10-25T03:44:05.695270Z",
     "start_time": "2022-10-25T03:44:05.681923Z"
    }
   },
   "outputs": [
    {
     "data": {
      "text/plain": [
       "array([5485, 5293, 5492, 5660, 5959, 5805, 5489])"
      ]
     },
     "execution_count": 69,
     "metadata": {},
     "output_type": "execute_result"
    }
   ],
   "source": [
    "newdf_last_7 = np.array(newdf['PJMW_MW'].tail(7))\n",
    "newdf_last_7"
   ]
  },
  {
   "cell_type": "code",
   "execution_count": 70,
   "id": "250407ca",
   "metadata": {
    "ExecuteTime": {
     "end_time": "2022-10-25T03:44:05.710975Z",
     "start_time": "2022-10-25T03:44:05.695270Z"
    },
    "scrolled": true
   },
   "outputs": [
    {
     "name": "stderr",
     "output_type": "stream",
     "text": [
      "C:\\Users\\mrsks\\anaconda3\\lib\\site-packages\\sklearn\\base.py:450: UserWarning: X does not have valid feature names, but LinearRegression was fitted with feature names\n",
      "  warnings.warn(\n",
      "C:\\Users\\mrsks\\anaconda3\\lib\\site-packages\\sklearn\\base.py:450: UserWarning: X does not have valid feature names, but LinearRegression was fitted with feature names\n",
      "  warnings.warn(\n",
      "C:\\Users\\mrsks\\anaconda3\\lib\\site-packages\\sklearn\\base.py:450: UserWarning: X does not have valid feature names, but LinearRegression was fitted with feature names\n",
      "  warnings.warn(\n",
      "C:\\Users\\mrsks\\anaconda3\\lib\\site-packages\\sklearn\\base.py:450: UserWarning: X does not have valid feature names, but LinearRegression was fitted with feature names\n",
      "  warnings.warn(\n",
      "C:\\Users\\mrsks\\anaconda3\\lib\\site-packages\\sklearn\\base.py:450: UserWarning: X does not have valid feature names, but LinearRegression was fitted with feature names\n",
      "  warnings.warn(\n",
      "C:\\Users\\mrsks\\anaconda3\\lib\\site-packages\\sklearn\\base.py:450: UserWarning: X does not have valid feature names, but LinearRegression was fitted with feature names\n",
      "  warnings.warn(\n",
      "C:\\Users\\mrsks\\anaconda3\\lib\\site-packages\\sklearn\\base.py:450: UserWarning: X does not have valid feature names, but LinearRegression was fitted with feature names\n",
      "  warnings.warn(\n",
      "C:\\Users\\mrsks\\anaconda3\\lib\\site-packages\\sklearn\\base.py:450: UserWarning: X does not have valid feature names, but LinearRegression was fitted with feature names\n",
      "  warnings.warn(\n",
      "C:\\Users\\mrsks\\anaconda3\\lib\\site-packages\\sklearn\\base.py:450: UserWarning: X does not have valid feature names, but LinearRegression was fitted with feature names\n",
      "  warnings.warn(\n",
      "C:\\Users\\mrsks\\anaconda3\\lib\\site-packages\\sklearn\\base.py:450: UserWarning: X does not have valid feature names, but LinearRegression was fitted with feature names\n",
      "  warnings.warn(\n",
      "C:\\Users\\mrsks\\anaconda3\\lib\\site-packages\\sklearn\\base.py:450: UserWarning: X does not have valid feature names, but LinearRegression was fitted with feature names\n",
      "  warnings.warn(\n",
      "C:\\Users\\mrsks\\anaconda3\\lib\\site-packages\\sklearn\\base.py:450: UserWarning: X does not have valid feature names, but LinearRegression was fitted with feature names\n",
      "  warnings.warn(\n",
      "C:\\Users\\mrsks\\anaconda3\\lib\\site-packages\\sklearn\\base.py:450: UserWarning: X does not have valid feature names, but LinearRegression was fitted with feature names\n",
      "  warnings.warn(\n",
      "C:\\Users\\mrsks\\anaconda3\\lib\\site-packages\\sklearn\\base.py:450: UserWarning: X does not have valid feature names, but LinearRegression was fitted with feature names\n",
      "  warnings.warn(\n",
      "C:\\Users\\mrsks\\anaconda3\\lib\\site-packages\\sklearn\\base.py:450: UserWarning: X does not have valid feature names, but LinearRegression was fitted with feature names\n",
      "  warnings.warn(\n",
      "C:\\Users\\mrsks\\anaconda3\\lib\\site-packages\\sklearn\\base.py:450: UserWarning: X does not have valid feature names, but LinearRegression was fitted with feature names\n",
      "  warnings.warn(\n",
      "C:\\Users\\mrsks\\anaconda3\\lib\\site-packages\\sklearn\\base.py:450: UserWarning: X does not have valid feature names, but LinearRegression was fitted with feature names\n",
      "  warnings.warn(\n",
      "C:\\Users\\mrsks\\anaconda3\\lib\\site-packages\\sklearn\\base.py:450: UserWarning: X does not have valid feature names, but LinearRegression was fitted with feature names\n",
      "  warnings.warn(\n",
      "C:\\Users\\mrsks\\anaconda3\\lib\\site-packages\\sklearn\\base.py:450: UserWarning: X does not have valid feature names, but LinearRegression was fitted with feature names\n",
      "  warnings.warn(\n",
      "C:\\Users\\mrsks\\anaconda3\\lib\\site-packages\\sklearn\\base.py:450: UserWarning: X does not have valid feature names, but LinearRegression was fitted with feature names\n",
      "  warnings.warn(\n",
      "C:\\Users\\mrsks\\anaconda3\\lib\\site-packages\\sklearn\\base.py:450: UserWarning: X does not have valid feature names, but LinearRegression was fitted with feature names\n",
      "  warnings.warn(\n",
      "C:\\Users\\mrsks\\anaconda3\\lib\\site-packages\\sklearn\\base.py:450: UserWarning: X does not have valid feature names, but LinearRegression was fitted with feature names\n",
      "  warnings.warn(\n",
      "C:\\Users\\mrsks\\anaconda3\\lib\\site-packages\\sklearn\\base.py:450: UserWarning: X does not have valid feature names, but LinearRegression was fitted with feature names\n",
      "  warnings.warn(\n",
      "C:\\Users\\mrsks\\anaconda3\\lib\\site-packages\\sklearn\\base.py:450: UserWarning: X does not have valid feature names, but LinearRegression was fitted with feature names\n",
      "  warnings.warn(\n",
      "C:\\Users\\mrsks\\anaconda3\\lib\\site-packages\\sklearn\\base.py:450: UserWarning: X does not have valid feature names, but LinearRegression was fitted with feature names\n",
      "  warnings.warn(\n",
      "C:\\Users\\mrsks\\anaconda3\\lib\\site-packages\\sklearn\\base.py:450: UserWarning: X does not have valid feature names, but LinearRegression was fitted with feature names\n",
      "  warnings.warn(\n",
      "C:\\Users\\mrsks\\anaconda3\\lib\\site-packages\\sklearn\\base.py:450: UserWarning: X does not have valid feature names, but LinearRegression was fitted with feature names\n",
      "  warnings.warn(\n",
      "C:\\Users\\mrsks\\anaconda3\\lib\\site-packages\\sklearn\\base.py:450: UserWarning: X does not have valid feature names, but LinearRegression was fitted with feature names\n",
      "  warnings.warn(\n",
      "C:\\Users\\mrsks\\anaconda3\\lib\\site-packages\\sklearn\\base.py:450: UserWarning: X does not have valid feature names, but LinearRegression was fitted with feature names\n",
      "  warnings.warn(\n",
      "C:\\Users\\mrsks\\anaconda3\\lib\\site-packages\\sklearn\\base.py:450: UserWarning: X does not have valid feature names, but LinearRegression was fitted with feature names\n",
      "  warnings.warn(\n"
     ]
    }
   ],
   "source": [
    "z=newdf_last_7\n",
    "\n",
    "for i in range(0,30):\n",
    "    r=z[-7:]\n",
    "    r=np.array([r])\n",
    "    ranf_f=final_l_model.predict(r)\n",
    "    z=np.append(z,ranf_f)\n",
    "    i=+1\n",
    "future_pred=z[-30:]"
   ]
  },
  {
   "cell_type": "code",
   "execution_count": 71,
   "id": "0c161329",
   "metadata": {
    "ExecuteTime": {
     "end_time": "2022-10-25T03:44:05.724497Z",
     "start_time": "2022-10-25T03:44:05.710975Z"
    }
   },
   "outputs": [
    {
     "data": {
      "text/plain": [
       "array([5606.93332054, 5286.75524388, 5529.96020842, 5452.52613566,\n",
       "       5849.96408134, 5861.13015676, 5489.58665547, 5776.55967806,\n",
       "       5217.39510914, 5682.34460185, 5277.70660667, 5737.23845512,\n",
       "       5899.72313243, 5378.25791682, 6044.89196638, 5013.1766278 ,\n",
       "       5965.33595685, 5102.63336403, 5644.50484062, 5990.74044313,\n",
       "       5071.95787233, 6515.69651489, 4561.11022606, 6443.25982755,\n",
       "       4866.07756086, 5562.40160493, 6255.45452736, 4413.29728404,\n",
       "       7392.494691  , 3657.40315365])"
      ]
     },
     "execution_count": 71,
     "metadata": {},
     "output_type": "execute_result"
    }
   ],
   "source": [
    "future_pred"
   ]
  },
  {
   "cell_type": "code",
   "execution_count": 72,
   "id": "6c0a7d3d",
   "metadata": {
    "ExecuteTime": {
     "end_time": "2022-10-25T03:44:05.740043Z",
     "start_time": "2022-10-25T03:44:05.724497Z"
    }
   },
   "outputs": [],
   "source": [
    "future = pd.date_range('2018-08-04','2018-09-02', freq='D')\n",
    "future_df = pd.DataFrame(index=future)"
   ]
  },
  {
   "cell_type": "code",
   "execution_count": 73,
   "id": "bb2493b4",
   "metadata": {
    "ExecuteTime": {
     "end_time": "2022-10-25T03:44:05.754457Z",
     "start_time": "2022-10-25T03:44:05.741497Z"
    }
   },
   "outputs": [],
   "source": [
    "future_df['future_PJMW_MW'] = future_pred.tolist()"
   ]
  },
  {
   "cell_type": "code",
   "execution_count": 74,
   "id": "081a7591",
   "metadata": {
    "ExecuteTime": {
     "end_time": "2022-10-25T03:44:05.769569Z",
     "start_time": "2022-10-25T03:44:05.754457Z"
    },
    "scrolled": true
   },
   "outputs": [
    {
     "name": "stdout",
     "output_type": "stream",
     "text": [
      "            future_PJMW_MW\n",
      "2018-08-04     5606.933321\n",
      "2018-08-05     5286.755244\n",
      "2018-08-06     5529.960208\n",
      "2018-08-07     5452.526136\n",
      "2018-08-08     5849.964081\n",
      "2018-08-09     5861.130157\n",
      "2018-08-10     5489.586655\n",
      "2018-08-11     5776.559678\n",
      "2018-08-12     5217.395109\n",
      "2018-08-13     5682.344602\n",
      "2018-08-14     5277.706607\n",
      "2018-08-15     5737.238455\n",
      "2018-08-16     5899.723132\n",
      "2018-08-17     5378.257917\n",
      "2018-08-18     6044.891966\n",
      "2018-08-19     5013.176628\n",
      "2018-08-20     5965.335957\n",
      "2018-08-21     5102.633364\n",
      "2018-08-22     5644.504841\n",
      "2018-08-23     5990.740443\n",
      "2018-08-24     5071.957872\n",
      "2018-08-25     6515.696515\n",
      "2018-08-26     4561.110226\n",
      "2018-08-27     6443.259828\n",
      "2018-08-28     4866.077561\n",
      "2018-08-29     5562.401605\n",
      "2018-08-30     6255.454527\n",
      "2018-08-31     4413.297284\n",
      "2018-09-01     7392.494691\n",
      "2018-09-02     3657.403154\n"
     ]
    }
   ],
   "source": [
    "print(future_df)"
   ]
  },
  {
   "cell_type": "code",
   "execution_count": 75,
   "id": "a6b57246",
   "metadata": {
    "ExecuteTime": {
     "end_time": "2022-10-25T03:44:05.932359Z",
     "start_time": "2022-10-25T03:44:05.770608Z"
    }
   },
   "outputs": [
    {
     "data": {
      "image/png": "[encoded data removed]",
      "text/plain": [
       "<Figure size 1008x360 with 1 Axes>"
      ]
     },
     "metadata": {
      "needs_background": "light"
     },
     "output_type": "display_data"
    }
   ],
   "source": [
    "plt.figure(figsize=(14,5))\n",
    "plt.title(\"Power consumption forecasting by LR\", fontsize=25)\n",
    "\n",
    "plt.plot(newdf[-365:].PJMW_MW, label='Actual values', color=\"blue\", marker=\"o\")\n",
    "\n",
    "plt.plot(future_df.index,future_df.values,label='Forecast', color=\"orange\", marker=\"o\")\n",
    "# plt.fill_between(future_df.index, lower_limits_f, upper_limits_f, alpha=0.1, color=\"orange\")\n",
    "\n",
    "plt.axvline(future_df.index[1], color=\"red\", linestyle=\"--\")\n",
    "plt.legend(fontsize=12, fancybox=True, shadow=True, frameon=True)\n",
    "plt.ylabel('Power consumption', fontsize=15)\n",
    "plt.show()"
   ]
  },
  {
   "cell_type": "code",
   "execution_count": 81,
   "id": "c3222e8c",
   "metadata": {
    "ExecuteTime": {
     "end_time": "2022-10-25T16:39:26.929980Z",
     "start_time": "2022-10-25T16:39:25.462207Z"
    }
   },
   "outputs": [],
   "source": [
    "import pickle\n",
    "import streamlit as st\n",
    "\n",
    "filename = 'PJMWForecasting.sav'"
   ]
  },
  {
   "cell_type": "code",
   "execution_count": 84,
   "id": "35081f13",
   "metadata": {
    "ExecuteTime": {
     "end_time": "2022-10-25T16:47:23.426614Z",
     "start_time": "2022-10-25T16:47:23.407432Z"
    }
   },
   "outputs": [],
   "source": [
    "pickle.dump(final_l_model, open('PJMWForecasting.pkl','wb'))"
   ]
  },
  {
   "cell_type": "code",
   "execution_count": 83,
   "id": "4d8364cb",
   "metadata": {
    "ExecuteTime": {
     "end_time": "2022-10-25T16:40:06.091837Z",
     "start_time": "2022-10-25T16:40:06.069582Z"
    }
   },
   "outputs": [],
   "source": [
    "# loading the saved model \n",
    "load_model = pickle.load(open(filename,'rb'))"
   ]
  },
  {
   "cell_type": "code",
   "execution_count": null,
   "id": "fef68a33",
   "metadata": {},
   "outputs": [],
   "source": []
  }
 ],
 "metadata": {
  "kernelspec": {
   "display_name": "Python 3 (ipykernel)",
   "language": "python",
   "name": "python3"
  },
  "language_info": {
   "codemirror_mode": {
    "name": "ipython",
    "version": 3
   },
   "file_extension": ".py",
   "mimetype": "text/x-python",
   "name": "python",
   "nbconvert_exporter": "python",
   "pygments_lexer": "ipython3",
   "version": "3.9.12"
  },
  "toc": {
   "base_numbering": 1,
   "nav_menu": {},
   "number_sections": true,
   "sideBar": true,
   "skip_h1_title": false,
   "title_cell": "Table of Contents",
   "title_sidebar": "Contents",
   "toc_cell": false,
   "toc_position": {},
   "toc_section_display": true,
   "toc_window_display": false
  },
  "varInspector": {
   "cols": {
    "lenName": 16,
    "lenType": 16,
    "lenVar": 40
   },
   "kernels_config": {
    "python": {
     "delete_cmd_postfix": "",
     "delete_cmd_prefix": "del ",
     "library": "var_list.py",
     "varRefreshCmd": "print(var_dic_list())"
    },
    "r": {
     "delete_cmd_postfix": ") ",
     "delete_cmd_prefix": "rm(",
     "library": "var_list.r",
     "varRefreshCmd": "cat(var_dic_list()) "
    }
   },
   "types_to_exclude": [
    "module",
    "function",
    "builtin_function_or_method",
    "instance",
    "_Feature"
   ],
   "window_display": false
  }
 },
 "nbformat": 4,
 "nbformat_minor": 5
}
